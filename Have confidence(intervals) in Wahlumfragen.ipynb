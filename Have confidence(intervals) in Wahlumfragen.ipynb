{
  "nbformat": 4,
  "nbformat_minor": 0,
  "metadata": {
    "colab": {
      "provenance": [],
      "include_colab_link": true
    },
    "kernelspec": {
      "name": "ir",
      "display_name": "R"
    },
    "language_info": {
      "name": "R"
    }
  },
  "cells": [
    {
      "cell_type": "markdown",
      "metadata": {
        "id": "view-in-github",
        "colab_type": "text"
      },
      "source": [
        "<a href=\"https://colab.research.google.com/github/cstecker/politicsRLab/blob/main/Have%20confidence(intervals)%20in%20Wahlumfragen.ipynb\" target=\"_parent\"><img src=\"https://colab.research.google.com/assets/colab-badge.svg\" alt=\"Open In Colab\"/></a>"
      ]
    },
    {
      "cell_type": "markdown",
      "source": [
        "# \"Obamas lead is now within the margin of error\" - Have confidence(intervals) in Wahlumfragen!\n"
      ],
      "metadata": {
        "id": "m-10MS7ktW84"
      }
    },
    {
      "cell_type": "markdown",
      "source": [
        "Um zu prüfen, ob eine Suppe gut gewürzt ist, löffelt man einen kleinen Teil und verkostet diesen. Die Idee dahinter ist, dass die Kostprobe *repräsentativ* für die gesamte Suppe ist. Jeder Happen sollte wie die gesamte Suppe schmecken, so die Annahme. Man trifft am Kochtopf also einen induktiven Schluss, indem anhand einer Stichprobe auf Eigenschaften der Population geschlossen wird - auch wenn man in diesem Jargon sicher seltener in einer Suppenküche parliert.\n",
        "Wahlumfragen sind in diesem Sinne auch eine Suppenverkostung. Wir befragen einen kleinen Teil der Wählerschaft, ziehen also eine Stichprobe, um eine belastbare Ahnung zu bekommen, wie denn die gesamte Wählerschaft bei der nächsten Wahl abstimmen würde. \n",
        "Aber wie funktioniert das und was muss man bei der Interpretation solcher Stichproben beachten? Ein Suppenrezept haben wir nicht parat, aber wir können mal nachkochen bzw. simulieren, wie Umfragen funktionieren. Dazu generieren wir uns einen Beispieldatensatz. Wir sagen R, einen Datensatz mit 10000 Befragten zu basteln, die nach einer bestimmten Wahrscheinlichkeit eine bestimmte Parteien wählen. Diese Wahrscheinlichkeit passen wir an aktuelle Umfragen an. "
      ],
      "metadata": {
        "id": "X66Ef6HctoaR"
      }
    },
    {
      "cell_type": "code",
      "execution_count": null,
      "metadata": {
        "id": "bT0Z_017tPWg"
      },
      "outputs": [],
      "source": [
        "# Wir basteln uns einen Datensatz der Sonntagsfrage\n",
        "library(tidyverse)\n",
        "library(tibble)\n",
        "\n",
        "set.seed(123) #Der seed sorgt dafür, dass wir trotz zufälliger Erstellung der Stichprobe die gleiche Stichprobe erhalten. \n",
        "\n",
        "# Wir erstellen jetzt ein Element mit den Parteinamen und den Prozenten, die sie bei aktuellen Umfragen (von wahlrecht.de) bekommen.\n",
        "parties <- tibble(party = c(\"CDU\", \"SPD\", \"Grüne\", \"FDP\", \"LINKE\", \"AfD\", \"Sonstige\"),\n",
        "                  percentage = c(0.31, 0.21, 0.16, 0.06, 0.045, 0.15, 0.065))\n",
        "\n",
        "# Anhand dieser Prozente generieren wir nun eine Stichprobe von 10.000 Befragten. Die Prozente der Parteien werden hier als Wahrscheinlichkeit verwendet. \n",
        "# Bedeute, dass eine Person in der Stichprobe eine 31% Wahrscheinlichkeit hat den \"Wert\" CDU zugeordnet zu bekommen. \n",
        "poll <- sample(parties$party, 10000, replace = TRUE, prob = parties$percentage)\n",
        "\n",
        "# Daraus erstellen wir nun einen Datensatz, welcher für alle \"Befragten\" eine Zahl sowie ihre \"Wahlentscheidung\" enthält.\n",
        "population <- tibble(\n",
        "  respondent = 1:10000,\n",
        "  party_preference = poll)\n",
        "\n",
        "# Schauen wir uns die Daten mal an\n",
        "head(population)"
      ]
    },
    {
      "cell_type": "markdown",
      "source": [
        "Wir haben nun für 10000 simulierte Befragte eine Wahlabsicht. Wie würden denn die Stimmenanteile graphisch aussehen?"
      ],
      "metadata": {
        "id": "OKVBhKOEtWdF"
      }
    },
    {
      "cell_type": "code",
      "source": [
        "population %>% \n",
        "  # Count the number of observations for each party preference\n",
        "  count(party_preference) %>% \n",
        "  # Calculate the percentage of observations for each party preference\n",
        "  mutate(perc = n/sum(n)*100) %>% \n",
        "  # Create a bar plot of party preference percentages\n",
        "  ggplot(aes(x = reorder(party_preference, desc(perc)), y = perc)) +\n",
        "  geom_bar(stat = \"identity\", fill = c(\"skyblue2\", \"black\", \"yellow\", \"green\", \"purple\", \"red\", \"grey\")) +\n",
        "  # Add text labels with percentage values to the top of each bar\n",
        "  geom_text(aes(label = perc, vjust = -.5)) +\n",
        "  # Add axis and plot labels\n",
        "  labs(x = \"Party\", y = \"Proportion\", title = \"Party Preferences in Population\")"
      ],
      "metadata": {
        "id": "pwfYDfHzOB4N"
      },
      "execution_count": null,
      "outputs": []
    },
    {
      "cell_type": "markdown",
      "source": [
        "Jetzt nehmen wir die 10000 simulierten Befragten als unsere Grundgesamtheit (also so wie alle Wahlberechtigten für die Sonntagsfrage). Nun ziehen wir eine Stichprobe aus dieser Grundgesamtheit\n",
        "\n",
        "Nun ziehen wir eine Zufallsstichprobe (2%, also 200 Befragte) aus dieser Grundgesamtheit."
      ],
      "metadata": {
        "id": "LSdVgO3pOSU4"
      }
    },
    {
      "cell_type": "code",
      "source": [
        "sample <- population %>% \n",
        "  # Take a 2% random sample from the population data frame\n",
        "  sample_frac(.02) %>% \n",
        "  # Count the number of observations for each party preference in the sample\n",
        "  count(party_preference) %>% \n",
        "  # Calculate the percentage of observations for each party preference in the sample\n",
        "  mutate(perc = n/sum(n)*100)\n",
        "sample"
      ],
      "metadata": {
        "id": "FLf0pQesOXG0"
      },
      "execution_count": null,
      "outputs": []
    },
    {
      "cell_type": "markdown",
      "source": [
        "Schauen wir uns mal an wie die Werte in der Stichprobe im Vergleich zur Grundgesamtheit ausfallen. Die Werte weichen leicht von der Grundgesamtheit ab."
      ],
      "metadata": {
        "id": "trDfloDUNxye"
      }
    },
    {
      "cell_type": "code",
      "source": [
        "sample %>% \n",
        "  # Create a bar plot of party preference percentages\n",
        "  ggplot(aes(x = reorder(party_preference, desc(perc)), y = perc)) +\n",
        "  geom_bar(stat = \"identity\", fill = c(\"skyblue2\", \"black\", \"yellow\", \"green\", \"purple\", \"red\", \"grey\")) +\n",
        "  # Add text labels with percentage values to the top of each bar\n",
        "  geom_text(aes(label = perc, vjust = -.5)) +\n",
        "  # Add axis and plot labels\n",
        "  labs(x = \"Party\", y = \"Proportion\", title = \"Party Preferences in Population\")"
      ],
      "metadata": {
        "id": "ZLgW6b8ZM406"
      },
      "execution_count": null,
      "outputs": []
    },
    {
      "cell_type": "markdown",
      "source": [
        "Führen Sie nun die beiden oberen Befehlsketten mehrfach aus, also zunächst eine Stichprobe ziehen und dann die Werte darstellen. Sie sehen, dass wir jeweils unterschiedliche Prozentwerte für die Parteien bekommen.\n",
        "Wir irren uns also mit jeder Stichprobe etwas. Bei Wahlumfragen wollen wir wissen, wie groß diese Schwankung ist. Es wäre etwas teuer dazu mal eben 100 Sonntagsfragen zu starten. Aber wir leben ja hier in einer Simulation (!) und können uns auch das simulieren. Ziehen wir also mal kostenlos 100 Stichproben und schauen was passiert."
      ],
      "metadata": {
        "id": "YVhV5s-vQBcT"
      }
    },
    {
      "cell_type": "code",
      "source": [
        "# Set the seed to ensure reproducibility\n",
        "set.seed(123)\n",
        "\n",
        "# Specify the number of samples and the number of observations in each sample\n",
        "n_reps <- 100 # Number of samples\n",
        "n_obs <- 200 # Number of observations in each sample\n",
        "\n",
        "# Create an empty tibble to store the sample results in a for-loop\n",
        "many_samples <- tibble()\n",
        "\n",
        "# For each of the 100 samples, create a data frame with 1000 observations sampled with replacement from the population\n",
        "# Count the number of observations for each party preference in each sample\n",
        "# Calculate the proportion of observations for each party preference in each sample\n",
        "# Add a column to indicate the sample number\n",
        "# Append the resulting data frame to the empty tibble\n",
        "for (i in 1:n_reps) {\n",
        "  sample_data <- population %>% \n",
        "    sample_n(n_obs, replace = TRUE) %>% \n",
        "    count(party_preference) %>% \n",
        "    mutate(prop = n / sum(n))\n",
        "  sample_data$rep <- i\n",
        "  many_samples <- rbind(many_samples, sample_data)\n",
        "}\n",
        "\n",
        "# Print the first few rows of the resulting tibble\n",
        "head(many_samples)\n"
      ],
      "metadata": {
        "id": "wY3FXeuQMdsn"
      },
      "execution_count": null,
      "outputs": []
    },
    {
      "cell_type": "markdown",
      "source": [
        "Nun haben wir 100 Stichproben für unsere sieben Parteien, also insgesamt 700 Prozentwerte. Wie verteilen sich diese Werte um den wahren Wert in der Population?"
      ],
      "metadata": {
        "id": "Ot5-R5qzALwr"
      }
    },
    {
      "cell_type": "code",
      "source": [
        "# Create a scatter plot to show the proportion of observations for each party preference in each sample\n",
        "ggplot(many_samples, aes(x = rep, y = prop, color = party_preference)) +\n",
        "  geom_point(size = 1) +\n",
        "  # Add axis and plot labels\n",
        "  labs(x = \"Sample Number\", y = \"Proportion\", color = \"Party Preference\") +\n",
        "  # Customize the legend\n",
        "  scale_color_manual(values = c(\"black\", \"red\", \"green\", \"yellow\", \"purple\", \"blue\", \"grey\"),\n",
        "                     labels = parties$party,\n",
        "                     breaks = parties$party) +\n",
        "  # Customize the y-axis\n",
        "  scale_y_continuous(labels = scales::percent_format(accuracy = 1)) +\n",
        "  # Add a horizontal line to indicate the population percentages for each party\n",
        "  geom_hline(data = parties, aes(yintercept = percentage, color = party), linetype = \"dashed\") +\n",
        "  # Move the legend to the top of the plot and adjust the theme\n",
        "  theme_classic() +\n",
        "  theme(legend.position = \"top\")"
      ],
      "metadata": {
        "id": "IvILUVFJR0si"
      },
      "execution_count": null,
      "outputs": []
    },
    {
      "cell_type": "markdown",
      "source": [
        "Da schau her! Manchmal unterschätzen wir den Stimmenanteil, manchmal überschätzen wir ihn und manchmal treffen wir auch ins Schwarze bzw. Rote, Grüne, Gelbe usw.\n",
        "Jetzt drehen Sie mal an unserer Stichprobenziehung oben. Ändern Sie mal die Zeile `n_obs <- 1000 # Number of observations in each sample`.\n",
        "Stellen Sie mal 100 ein, also `n_obs <- 100` und lassen Sie sich die Abbildung \n",
        "Oha, bei der kleinen Stichprobengröße fliegen uns die Punkte wild um den wahren Wert. \n",
        "Und nun mal `n_obs <- 5000`. Bei wachsender Stichprobengröße wird es wieder akkurater. Je mehr Leute wir also befragen, desto größer unsere Chance nahe an den wahren Wert zu kommen."
      ],
      "metadata": {
        "id": "ArZoIwczTvb3"
      }
    },
    {
      "cell_type": "markdown",
      "source": [
        "Wir haben es beim Stichprobenziehen also immer mit einem gewissen Unsicherheitsfaktor zu tun. Diese Unsicherheit wollen wir quantifizieren. Dazu nutzen wir sogenannte Konfidenzintervalle. Das Konfidenzintervall gibt uns den Bereich an, in dem der wahre Wert (also in der Population) mit einer bestimmten Wahrscheinlichkeit liegt. Schauen wir uns das mal für die Stichprobenschwankungen der CDU an. Dazu werfen wir die einzelnen Stichprobenwerten auf einen Haufen. Der Berg türmt sich nun an den Stellen der x-Achse besonders auf, wo die entsprechenden Werte besonders häufig vorkamen. Wir sehen dass annähernd eine Normalverteilung (dazu später mehr) entsteht, die ihren Gipfel um den wahren Wert hat."
      ],
      "metadata": {
        "id": "k7L3nz0LYDpX"
      }
    },
    {
      "cell_type": "code",
      "source": [
        "# Create a density plot to show the distribution of CDU percentages in the samples\n",
        "density_plot <- ggplot(many_samples %>% filter(party_preference == \"CDU\"), aes(x = prop)) +\n",
        "  geom_density(fill = \"skyblue2\", color = \"black\") +\n",
        "  # Add axis and plot labels\n",
        "  labs(x = \"Proportion\", y = \"Density\", title = \"Distribution of CDU Percentages in Samples\") +\n",
        "  # Add a vertical line to indicate the population percentage for the CDU\n",
        "  geom_vline(data = parties %>% filter(party == \"CDU\"), aes(xintercept = percentage), \n",
        "             linetype = \"dashed\", color = \"red\") +\n",
        "  # Customize the x-axis\n",
        "  scale_x_continuous(labels = scales::percent_format(accuracy = 1)) +\n",
        "  # Customize the theme\n",
        "  theme_classic()\n",
        "\n",
        "# Calculate the 95% confidence interval for the CDU percentages\n",
        "cdu_ci <- many_samples %>% \n",
        "  filter(party_preference == \"CDU\") %>% \n",
        "  summarise(lower = quantile(prop, 0.025),\n",
        "            upper = quantile(prop, 0.975))\n",
        "\n",
        "# Calculate the density values manually for the shaded area\n",
        "cdu_density <- density(many_samples %>% filter(party_preference == \"CDU\") %>% pull(prop))\n",
        "cdu_density_df <- data.frame(x = cdu_density$x, y = cdu_density$y)\n",
        "cdu_density_df$y_scaled <- cdu_density_df$y / max(cdu_density_df$y)\n",
        "\n",
        "# Add a shaded area to represent the 95% confidence interval\n",
        "density_plot +\n",
        "  # Add vertical dotted lines for the confidence interval\n",
        "  geom_vline(xintercept = cdu_ci$lower, linetype = \"dotted\", color = \"red\") +\n",
        "  geom_vline(xintercept = cdu_ci$upper, linetype = \"dotted\", color = \"red\")"
      ],
      "metadata": {
        "id": "TaB7pGpIVt2A"
      },
      "execution_count": null,
      "outputs": []
    },
    {
      "cell_type": "markdown",
      "source": [
        "Die mittlere vertikale Linie gibt den Wert der CDU-Unterstützung in der Population. Die beiden linken und rechten Linien geben die Grenzen des Konfidenzintervals. Wir können uns auch die Zahlen ansehen:"
      ],
      "metadata": {
        "id": "07_qMj2OZMym"
      }
    },
    {
      "cell_type": "code",
      "source": [
        "cdu_ci"
      ],
      "metadata": {
        "id": "2XdaDe2xZJhr"
      },
      "execution_count": null,
      "outputs": []
    },
    {
      "cell_type": "markdown",
      "source": [
        "Das bedeutet, dass man mit einer Wahrscheinlichkeit von 95% sagen kann, dass der wahre Stimmenanteil der CDU in der Population Zielgruppe zwischen den Werten liegt die in der Spalte `lower` und `upper` aufgeführt sind."
      ],
      "metadata": {
        "id": "ixKVI8YvYvcc"
      }
    },
    {
      "cell_type": "markdown",
      "source": [
        "Eine Pointe ist nun, dass sich Konfidenzintervalle zwischen verschiedenen Parteien überschneiden können. "
      ],
      "metadata": {
        "id": "nRoXb1Bba0Zn"
      }
    },
    {
      "cell_type": "code",
      "source": [
        "# Define a set of x values to use for the density approximation\n",
        "x_values <- seq(0, 1, length.out = 1000)\n",
        "\n",
        "# Calculate the density distributions for the CDU and the SPD\n",
        "cdu_density <- density(many_samples %>% filter(party_preference == \"CDU\") %>% pull(prop))\n",
        "spd_density <- density(many_samples %>% filter(party_preference == \"SPD\") %>% pull(prop))\n",
        "\n",
        "# Create functions that approximate the density estimates for the fixed x values\n",
        "cdu_density_fun <- approxfun(cdu_density$x, cdu_density$y, method = \"linear\", yleft = 0, yright = 0)\n",
        "spd_density_fun <- approxfun(spd_density$x, spd_density$y, method = \"linear\", yleft = 0, yright = 0)\n",
        "\n",
        "# Calculate the density values for the fixed x values\n",
        "density_df <- data.frame(x = x_values)\n",
        "density_df$cdu_density <- cdu_density_fun(x_values)\n",
        "density_df$spd_density <- spd_density_fun(x_values)\n",
        "density_df$y_scaled <- density_df[, c(\"cdu_density\", \"spd_density\")] %>% \n",
        "  apply(1, max) %>% \n",
        "  scale()\n",
        "\n",
        "# Calculate the 95% confidence intervals for the CDU and SPD percentages\n",
        "cdu_ci <- many_samples %>% filter(party_preference == \"CDU\") %>% \n",
        "  summarise(lower = quantile(prop, 0.025), upper = quantile(prop, 0.975))\n",
        "spd_ci <- many_samples %>% filter(party_preference == \"SPD\") %>% \n",
        "  summarise(lower = quantile(prop, 0.025), upper = quantile(prop, 0.975))\n",
        "\n",
        "# Create the density plot with confidence intervals for the CDU and SPD\n",
        "ggplot(density_df, aes(x = x, y = y_scaled)) +\n",
        "  geom_area(aes(y = cdu_density), fill = \"skyblue2\", alpha = 0.5) +\n",
        "  geom_area(aes(y = spd_density), fill = \"red\", alpha = 0.5) +\n",
        "  geom_vline(data = parties %>% filter(party %in% c(\"CDU\", \"SPD\")), aes(xintercept = percentage), \n",
        "             linetype = \"dashed\", color = \"black\") +\n",
        "  geom_vline(xintercept = cdu_ci$lower, linetype = \"dotted\", color = \"black\") +\n",
        "  geom_vline(xintercept = cdu_ci$upper, linetype = \"dotted\", color = \"black\") +\n",
        "  geom_vline(xintercept = spd_ci$lower, linetype = \"dotted\", color = \"black\") +\n",
        "  geom_vline(xintercept = spd_ci$upper, linetype = \"dotted\", color = \"black\") +\n",
        "  labs(x = \"Proportion\", y = \"Density\", \n",
        "       title = \"Distribution of CDU and SPD Percentages in Samples\") +\n",
        "  xlim(0.1, 0.5) +\n",
        "  theme_classic()\n"
      ],
      "metadata": {
        "id": "XiFSVvlSbemR"
      },
      "execution_count": null,
      "outputs": []
    }
  ]
}