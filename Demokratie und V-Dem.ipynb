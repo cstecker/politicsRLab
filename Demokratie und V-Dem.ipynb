{
  "nbformat": 4,
  "nbformat_minor": 0,
  "metadata": {
    "colab": {
      "provenance": [],
      "include_colab_link": true
    },
    "kernelspec": {
      "name": "ir",
      "display_name": "R"
    },
    "language_info": {
      "name": "R"
    }
  },
  "cells": [
    {
      "cell_type": "markdown",
      "metadata": {
        "id": "view-in-github",
        "colab_type": "text"
      },
      "source": [
        "<a href=\"https://colab.research.google.com/github/cstecker/politicsRLab/blob/main/Demokratie%20und%20V-Dem.ipynb\" target=\"_parent\"><img src=\"https://colab.research.google.com/assets/colab-badge.svg\" alt=\"Open In Colab\"/></a>"
      ]
    },
    {
      "cell_type": "markdown",
      "source": [
        "# **Demokratien analysieren mit V-DEM**\n",
        "\n",
        "## **Setup**\n",
        "\n",
        "Zu Beginn laden wir uns wieder die Pakete, die wir benötigen. Hier brauchen wir zunächst das *tidyverse* und *vdemdata*, um den Datensatz für heute zu laden."
      ],
      "metadata": {
        "id": "Yof7ORolJ9tH"
      }
    },
    {
      "cell_type": "code",
      "source": [
        "library(tidyverse)\n",
        "library(devtools)\n",
        "install_github(\"vdeminstitute/vdemdata\")\n",
        "library(vdemdata)"
      ],
      "metadata": {
        "id": "jP4paJTPKIN8"
      },
      "execution_count": null,
      "outputs": []
    },
    {
      "cell_type": "markdown",
      "source": [
        "## **Der V-DEM Datensatz**\n",
        "\n",
        "“Varieties of Democracy”, kurz [V-Dem](https://v-dem.net/) ist das Datensammelprojekt zur Demokratieentwicklung und Demokratiequalität. Im Gegensatz zu Freedom House oder Polity IV trifft V-Dem nicht nur allgemeine Aussagen über den Zustand demokratischer Institutionen und Freiheiten, sondern liefert sehr viele konkrete Variablen, die einen nuancierten Blick ermöglichen. So gibt V-Dem z. B. auch Aufschluss über die Wissenschaftsfreiheit oder Zensur im Internet.\n",
        "\n",
        "Für uns besonders interessant ist die Verbindung von politischen Variablen mit ökonomischen, geographischen und soziologischen Variablen. So lassen sich bekannte Theorien zur Demokratisierung untersuchen. Die Zeitreihe des Projekts ist ebenfalls beachtlich. Der Kern der Daten beginnt, wie so oft, nach dem zweiten Weltkrieg, doch die Forscherinnen und Forscher der Univeristät Göteborg haben für einige Länder den Grad der Demokratisierung bis 1789 ermittelt – da hatten wir uns auf dem heutigen Territorium Deutschlands gerade langsam vom Absolutismus verabschiedet.\n",
        "\n",
        "Die Daten kommen mit dem praktischen R-Package, das wir oben bereits geladen haben. Dazu gibt es auch eine [Dokumentation auf github](https://github.com/vdeminstitute/vdemdata). Schauen wir uns die Daten mal an. Der Datensatz ist hhhuuuuge und er hat auch the best data. Schauen wir mal wieviele Zeilen und Variablen der Datensatz hat. Also seine Dimensionen:\n",
        "\n"
      ],
      "metadata": {
        "id": "YKeKsjkKKRH4"
      }
    },
    {
      "cell_type": "code",
      "source": [
        "dim(vdem)"
      ],
      "metadata": {
        "id": "sRvWc7DiP2pd"
      },
      "execution_count": null,
      "outputs": []
    },
    {
      "cell_type": "markdown",
      "source": [
        "Die erste Zahl steht für die Anzahl an Beobachtungen im Datensatz. Die zweite Zahl hingegen steht für die Anzahl an Variablen. Wir sehen sofort, dass dieser Datensatz sehr viel zu bieten hat! `glimpse()` bietet uns eine weitere Perspektive auf den Datensatz."
      ],
      "metadata": {
        "id": "z3zZANr3Q-BB"
      }
    },
    {
      "cell_type": "code",
      "source": [
        "glimpse(vdem)"
      ],
      "metadata": {
        "id": "7WeVuH1-ijwk"
      },
      "execution_count": null,
      "outputs": []
    },
    {
      "cell_type": "markdown",
      "source": [
        "Schließlich können wir auch die oft vertraute \"Excel-Perspektive\" konsultieren (dazu wählen wir uns die ersten zehn Zeilen aus):"
      ],
      "metadata": {
        "id": "MrD3rgtuihDJ"
      }
    },
    {
      "cell_type": "code",
      "source": [
        "vdem %>%\n",
        "    filter(row_number() < 10)  %>%\n",
        "    View()"
      ],
      "metadata": {
        "id": "yzfYLy0KRiCy"
      },
      "execution_count": null,
      "outputs": []
    },
    {
      "cell_type": "markdown",
      "source": [
        "Werfen wir noch einen Blick auf Deutschland, indem wir den Datensatz in der Variable *country_name* filtern."
      ],
      "metadata": {
        "id": "RyEcbvKmfLeO"
      }
    },
    {
      "cell_type": "code",
      "source": [
        "vdem %>%\n",
        "    filter(country_name == \"Germany\")  %>%\n",
        "    View()"
      ],
      "metadata": {
        "id": "fnLiEwUXfBAj"
      },
      "execution_count": null,
      "outputs": []
    },
    {
      "cell_type": "markdown",
      "source": [
        "Wir sehen, dass er nach Länderjahren aufgebaut ist, also jede Zeile beinhaltet Informationen (in den Spalten) über ein Land in einem bestimmten Jahr.\n",
        "Bei einem so riesigen Datensatz braucht man verschiedene Wegweiser, um sich zurechtzufinden. Ein wichtiger Wegweiser ist das [Codebook](https://www.v-dem.net/static/website/img/refs/codebookv111.pdf). Öffnen Sie es mal und stöbern etwas.\n",
        "Auch innerhalb des R-Packages gibt es einige Wegweiser. Wir können z. B. gezielt den Inhalt einzelner Variablen abfragen. Die Variable `v2x_regime` werden wir im Folgenden nutzen. Was verbirgt sich dahinter?"
      ],
      "metadata": {
        "id": "1cnz5ZmfSTqk"
      }
    },
    {
      "cell_type": "code",
      "source": [
        "var_info(\"v2x_regime\")"
      ],
      "metadata": {
        "id": "Uyt8o9GhjgQs"
      },
      "execution_count": null,
      "outputs": []
    },
    {
      "cell_type": "markdown",
      "source": [
        "## **Zeitliche Entwicklung von Demokratien**\n",
        "\n",
        "Die Demokratieforschung fragt u.a., wie sich die Demokratie verbreitet und wo es zu Rückfällen in autokratische Systeme kommt. Machen wir uns doch selbst ein Bild über die Entwicklung von Demokratien über Zeit. Die Variable *v2x_regime* trifft darüber eine Aussage und unterteilt alle Länderjahre in closed autocracies, electoral autocracies, electoral democracies und liberal democracies.\n",
        "\n",
        "Schauen wir uns die zeitliche Entwicklung mal graphisch an. Dazu müssen wir die Daten allerdings erst ein wenig bearbeiten – data wrangling mit dem tidyverse. Die einzelnen Befehle fügen wir wieder mit der pipe, *%>%*, zusammen. Für die Visualisierung nutzen wir das uns schon bekannte *ggplot* (Achtung: im Grafikbefehl werden die Elemente mit “+” aneinandergefügt):"
      ],
      "metadata": {
        "id": "jEIl4SzwjEFt"
      }
    },
    {
      "cell_type": "code",
      "source": [
        "vdem %>%\n",
        "  # Lösche alle Zeilen mit missings\n",
        "  drop_na(v2x_regime) %>%\n",
        "  # Gruppiere nach Jahr\n",
        "  group_by(year) %>%\n",
        "  # Zähle für jedes Jahr die Häufigkeit der einzelnen Regime-Types\n",
        "  count(v2x_regime) %>%\n",
        "  # Schiebe die Daten in ein ggplot\n",
        "  ggplot(\n",
        "    # Schreibe die Jahre auf die x-Achse, die Häufigkeiten der regime-types auf die y-Achse\n",
        "    aes(x = year, y = n,\n",
        "        # färbe die Linien nach den unterschiedlichen Regime-Types\n",
        "        color = factor(v2x_regime, levels = c(0, 1, 2, 3),\n",
        "                       labels = c(\"Closed autocracy\", \"Electoral autocracy\", \"Electoral democracy\",\n",
        "                                  \"Liberal democracy\")), na.rm = TRUE))+\n",
        "  # Stelle die Daten als Linie dar\n",
        "  geom_line() +\n",
        "  # Füge eine vertikale Referenzlinie für das Ende der Weltkriege und\n",
        "  # die Demokratisierung des Ostblocks ein\n",
        "  geom_vline(xintercept = c(1918, 1945, 1989)) +\n",
        "  # Beschrifte die Abbildung und die Achsen\n",
        "  labs(title = \"Entwicklung der Demokratie über Zeit\",\n",
        "       x = \"Jahr\", y = \"Anzahl der Länder\") +\n",
        "  # Definiere die Legende\n",
        "  guides(color=guide_legend(\"Regimetypen\"))+\n",
        "  # wähle das theme_minimal, damit Dich Deine R-buddies nicht mehr dissen, weil Du noch das\n",
        "  # Standardtheme verwendest.\n",
        "  theme_minimal()"
      ],
      "metadata": {
        "id": "CpgCRlXyTTS-"
      },
      "execution_count": null,
      "outputs": []
    },
    {
      "cell_type": "markdown",
      "source": [
        "Sehr schick und aussagekräftig! Spielen Sie mal ausführlich mit diesem Befehl herum, um die einzelnen Teile besser zu verstehen. Am besten geht das, wenn man die Zeilen nacheinander ausführt. Das ist im colab etwas umständlicher. Sie müssen nach und nach die Zeilen eingeben und dann ausführen."
      ],
      "metadata": {
        "id": "WZcc8BqRf64P"
      }
    },
    {
      "cell_type": "code",
      "source": [
        "vdem %>%\n",
        "  # Lösche alle Zeilen mit missings\n",
        "  drop_na(v2x_regime)"
      ],
      "metadata": {
        "id": "KzH0Rx4_f7iS"
      },
      "execution_count": null,
      "outputs": []
    },
    {
      "cell_type": "markdown",
      "source": [
        "Im Datensatz sind die Regiemtypen für jedes Land und Jahr als kategoriale Variable (0 bis 3) aufgeführt. Um diese kumulierte Darstellung zu erreichen, müssen Sie zunächst die Summe der Regimetypen pro Jahr berechnen und dann differenziert nach Regiemtyp darstellen. Dies geschieht im Befehl in zwei Schritten. Zunächst wird mit *group_by(year)* spezifiziert, dass alle folgenden Befehle nach Jahren getrennt durchgeführt werden sollen. Sie wollen ja nicht die globale Summe berechnen, sondern für jedes Jahr. Mit *count(v2x_regime)* folgt ein Befehl ähnlich wie *mutate()*. *count()* erstellt eine Variable n, die die Summe der Ausprägungen darstellt. Dies hatten wir auch schon bei der Auswertung der Kursumfrage genutzt. Werfen wir einen genauen Blick auf den Befehl und sein Ergebnis:"
      ],
      "metadata": {
        "id": "hVcdWmXjTy0w"
      }
    },
    {
      "cell_type": "code",
      "source": [
        "vdem %>%\n",
        "  drop_na(v2x_regime) %>%\n",
        "  group_by(year) %>%\n",
        "  count(v2x_regime)"
      ],
      "metadata": {
        "id": "jemQwHz0UGLX"
      },
      "execution_count": null,
      "outputs": []
    },
    {
      "cell_type": "markdown",
      "source": [
        "Sie sehen übersichtlich die neue Datenstruktur aus der dann der Graph erstellt wird. Im Graphikbefehl wird dann mit der Option *color = factor(v2x_regime, ...)* zusätzlich festgelegt, dass farblich nach dem Wert der Variable *v2x_regime*, also dem Regimtyp, differenziert werden soll.\n",
        "\n",
        "Mit diesen Befehlen haben wir nun die Entwicklung und Verteilung verschiedener Regimetypen nach dem V-Dem Datensatz visualisiert. Wichtige historische Entwicklungen, wie das Ende der Weltkriege oder der Zerfall der Sowjetunion sind gut in den Daten zu erkennen (Kommentieren Sie doch mal die Zeile der geom_vline heraus, indem Sie ein “#” davorsetzen. Dann sehen Sie, dass die vertikalen Referenzlinien verschwinden). Ebenfalls sehen wir, dass seit ca. 2010 zum ersten Mal seit Jahrzehnten liberale Demokratien auf dem Rückzug sind und sich Autokratien ausbreiten.\n",
        "\n",
        "## **Demokratie nach Dahl**\n",
        "\n",
        "Nach einem ersten Blick auf die V-Dem Daten gehen wir weiter in die Details der einzelnen Variablen. Die Variable v2x_polyarchy beschreibt den elektoralen Demokratieindex, der das Prinzip der elektoralen Demokratie misst. Eine ideale Umsetzung würde den Wert 1 annehmen, das Gegenteil den Wert 0. Damit können Sie bereits genenauere Aussagen über den Zustand von Demokratien im Vergleich und in ihrer Entwicklung treffen. Im nächsten Schritt wollen wir die Entwicklung dieses Indizes für Deutschland (von 1949 bis 1991 nur Westdeutschland), Polen, Ungarn und Tunesien visualisieren:"
      ],
      "metadata": {
        "id": "LFiMP6SEUwyC"
      }
    },
    {
      "cell_type": "code",
      "source": [
        "vdem %>%\n",
        "  filter(year > 1899) %>%\n",
        "  filter(country_name == \"Germany\" | country_name == \"Poland\" | country_name == \"Hungary\" | country_name == \"Tunisia\") %>%\n",
        "  ggplot() +\n",
        "  geom_line(mapping = aes(x= year, y=v2x_polyarchy, color = country_name)) +\n",
        "  labs(x = \"Jahr\", y = \"Elektoraler Demokratieindex\", color = \"Land\") +\n",
        "  theme_minimal()"
      ],
      "metadata": {
        "id": "zOPXJ9I4V8Vt"
      },
      "execution_count": null,
      "outputs": []
    },
    {
      "cell_type": "markdown",
      "source": [
        "Gut zu erkennen ist die Demokratisierung Deutschlands mit der Weimarer Republik. Sie erinnern sich, 1919 haben wir Kaiser Wilhelm davongejagt und bis heute warten [seine darbenden Nachkommen auf eine angemessene Entschädigung für das ihnen ergangene Unrecht](https://www.rnd.de/politik/historikerstreit-in-deutschland-kaiser-nachfahren-wollen-entschaedigung-trotz-ns-kollaboration-LUGQGWLLERE73EOSCARV5WE24M.html). Ab 1933 erkennen wir den Aufstieg des Nationalsozialismus (dem die Hohenzollern nach herrschender Meinung erheblich Vorschub geleistet haben). Schließlich wird die Demokratie ab 1949 wieder bzw. von Außen in Deutschland etabliert. Für Ungarn und Polen erkennen Sie die Demokratisierung nach dem Fall des Eisernen Vorhangs und den bemerkenswerten Abstieg seit 2010. In Tunesien sind u.a. die Erfolge des arabischen Frühlings erkennbar."
      ],
      "metadata": {
        "id": "WItJfFYtWE2V"
      }
    },
    {
      "cell_type": "markdown",
      "source": [
        "## ***Aufgabe***: *Demokratieentwicklung darstellen*"
      ],
      "metadata": {
        "id": "iEzJUTc4nlIa"
      }
    },
    {
      "cell_type": "code",
      "source": [
        "# Aufgabe: Stellen Sie die Demokratieentwicklung von drei Ländern Ihrer Wahl dar und kommentieren Sie diese kurz.\n",
        "vdem %>%\n",
        "  # hier sollte Ihr Code stehen"
      ],
      "metadata": {
        "id": "lkAw-J-4mhUJ"
      },
      "execution_count": null,
      "outputs": []
    },
    {
      "cell_type": "markdown",
      "source": [
        "Aus der Vorlesung wissen Sie, dass Dahl die ideale real existierende Demokratie als Polyarchie bezeichnet. Sein Konzept beinhaltet zwei Dimensionen: Inklusion und Wettbewerb (“inclusion open to contestation”). Die Konzeption Dahls hat auch Einzug in die Methodik des V-Dem gefunden, sodass wir Werte und Indizes vorliegen haben, mit wir die Länder in Dahls Konzept verorten können.\n",
        "\n",
        "Als Inklusionswert einer Demokratie ziehen wir die Variable *v2x_partipdem* heran (siehe Codebuch). Dies ist der Participatory democracy index, der erhebt inwieweit das Ideal der partizipativen Demokratie erreicht wird (Maximalwert 4). Um die Wettberwerbsdimension zu ermitteln, ziehen wir die Variable *v2elfrfair*, den clean election index (siehe Codebuch), heran. Dieser ermittelt inwieweit Wahlen fair und frei sind. Dies gilt insbesondere für den Grad des fairen Wettbewerbs unter Parteien. Da die Variable *v2elfrfair* nur in Jahren von Wahlen erhoben wird, erstellen wir zunächst die Variable elecfair und übertragen bei fehlenden Werten die Werte der letzten Wahl."
      ],
      "metadata": {
        "id": "x-ePZ1UomfgA"
      }
    },
    {
      "cell_type": "code",
      "source": [
        "#Lücken in v2elfrfair zu füllen. NAs werden durch Vorjahreswerte ersetzt\n",
        "vdem <- vdem %>%\n",
        "  mutate(elecfair = v2elfrfair) %>%\n",
        "  fill(elecfair, .direction = \"down\")"
      ],
      "metadata": {
        "id": "Q5pwnJiGW33N"
      },
      "execution_count": null,
      "outputs": []
    },
    {
      "cell_type": "markdown",
      "source": [
        "Danach bilden wir nun die beiden Dimensionen in einem Plot ab. Ausgewählt wurden folgende Länder:\n",
        "\n",
        "*   Schweiz (*CHE*)\n",
        "*   Deutschland (*DEU*)\n",
        "*   Vereinigte Staaten (*USA*)\n",
        "*   Russland (von 1919 bis 1990 Sovietunion) (*RUS*)\n",
        "*   China (*CHN*)\n",
        "*   Frankreich (*FRA*)"
      ],
      "metadata": {
        "id": "6FRf5yVUXcjf"
      }
    },
    {
      "cell_type": "code",
      "source": [
        "vdem %>%  #Graph Demokratie nach Dahl ausgewählte Länder\n",
        "  filter(country_name == \"Switzerland\" | country_name == \"Germany\" | country_name == \"United States of America\" |\n",
        "           country_name == \"Russia\" | country_name == \"China\" | country_name == \"France\") %>%\n",
        "  filter(year == 1800 | year == 1900 | year == 1920 | year == 1939 | year == 1950 | year == 2010 | year == 2020) %>%\n",
        "  ggplot() +\n",
        "  geom_text(size = 3.5, aes(x=.9, y=3.9, label = \"Polyarchy\", hjust = 0.3)) +\n",
        "  geom_point(aes(x=1, y=4)) +\n",
        "  geom_point(aes(x=0, y=-4)) +\n",
        "  geom_text(size = 3.5, check_overlap = FALSE, aes(x = v2x_partipdem, y = elecfair, label = country_text_id, color = factor(year))) +\n",
        "  labs(x = \"Index partizipative Demokratie\",  y = \"Index Freiheit Wahlen\", color = \"Jahr\") +\n",
        "  xlim(c(0, 1)) +\n",
        "  ylim(c(-4, 4)) +\n",
        "  theme_minimal()"
      ],
      "metadata": {
        "id": "aJDCkWy3YDsW"
      },
      "execution_count": null,
      "outputs": []
    },
    {
      "cell_type": "markdown",
      "source": [
        "Für diese Darstellung wurde das Geom *geom_text* verwendet. Im Gegensatz zu bisher verwendeten Geomen gibt dieses Text als Punkte aus, sodass hier sehr einfach zwischen den Staaten unterschieden werden kann. Welchen Text das Geom anzeigt kann mit der Option *label = Variable* festgelegt werden."
      ],
      "metadata": {
        "id": "pafob15cYLlx"
      }
    },
    {
      "cell_type": "markdown",
      "source": [
        "## ***Aufgabe***: *Index darstellen*\n",
        "Stellen Sie separate Abbildungen für den Index der partizipativen Demokratie und dem Index Freiheit der Wahlen dar. Und zwar separat für die Schweiz, Südafrika und Ungarn dar. Wie können Sie die Veränderungen erklären?"
      ],
      "metadata": {
        "id": "us5defwxn7Hz"
      }
    },
    {
      "cell_type": "code",
      "source": [
        "# Index partizipative Demokratie\n",
        "vdem %>%\n",
        "  filter(year > 1899) %>%\n",
        "  filter(country_name == \"Hungary\") %>%\n",
        "  ggplot() +\n",
        "  geom_line(mapping = aes(x = year, y = v2x_partipdem, color = country_name)) +\n",
        "  labs(x = \"Jahr\", y = \"Index partizipative Demokratie\", color = \"Land\") +\n",
        "  theme_minimal()"
      ],
      "metadata": {
        "id": "_72xrChjoXq5"
      },
      "execution_count": null,
      "outputs": []
    },
    {
      "cell_type": "code",
      "source": [
        "# Index Freiheit der Wahlen\n",
        "  vdem %>%\n",
        "  filter(year > 1899) %>%\n",
        "  filter(country_name == \"Hungary\") %>%\n",
        "  ggplot() +\n",
        "  geom_line(mapping = aes(x = year, y = v2elfrfair, color = country_name)) +\n",
        "  labs(x = \"Jahr\", y = \"Index Freiheit Wahlen\", color = \"Land\") +\n",
        "  theme_minimal()"
      ],
      "metadata": {
        "id": "kV7kS028pN-v"
      },
      "execution_count": null,
      "outputs": []
    }
  ]
}