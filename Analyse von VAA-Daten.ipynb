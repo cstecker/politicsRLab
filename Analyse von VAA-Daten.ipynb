{
  "nbformat": 4,
  "nbformat_minor": 0,
  "metadata": {
    "colab": {
      "provenance": [],
      "include_colab_link": true
    },
    "kernelspec": {
      "name": "ir",
      "display_name": "R"
    },
    "language_info": {
      "name": "R"
    }
  },
  "cells": [
    {
      "cell_type": "markdown",
      "metadata": {
        "id": "view-in-github",
        "colab_type": "text"
      },
      "source": [
        "<a href=\"https://colab.research.google.com/github/cstecker/politicsRLab/blob/main/Analyse%20von%20VAA-Daten.ipynb\" target=\"_parent\"><img src=\"https://colab.research.google.com/assets/colab-badge.svg\" alt=\"Open In Colab\"/></a>"
      ]
    },
    {
      "cell_type": "markdown",
      "source": [
        "## **Analyse von VAA-Daten**\n",
        "\n",
        "## **Setup**\n",
        "Zu Beginn laden wir die Pakete, die wir benötigen."
      ],
      "metadata": {
        "id": "Yof7ORolJ9tH"
      }
    },
    {
      "cell_type": "code",
      "source": [
        "library(tidyverse)\n",
        "library(readxl)"
      ],
      "metadata": {
        "id": "jP4paJTPKIN8",
        "outputId": "4b0da63b-36b6-4db4-84fb-0070b6c3670a",
        "colab": {
          "base_uri": "https://localhost:8080/"
        }
      },
      "execution_count": 2,
      "outputs": [
        {
          "output_type": "stream",
          "name": "stderr",
          "text": [
            "── \u001b[1mAttaching core tidyverse packages\u001b[22m ──────────────────────── tidyverse 2.0.0 ──\n",
            "\u001b[32m✔\u001b[39m \u001b[34mdplyr    \u001b[39m 1.1.4     \u001b[32m✔\u001b[39m \u001b[34mreadr    \u001b[39m 2.1.5\n",
            "\u001b[32m✔\u001b[39m \u001b[34mforcats  \u001b[39m 1.0.0     \u001b[32m✔\u001b[39m \u001b[34mstringr  \u001b[39m 1.5.1\n",
            "\u001b[32m✔\u001b[39m \u001b[34mggplot2  \u001b[39m 3.4.4     \u001b[32m✔\u001b[39m \u001b[34mtibble   \u001b[39m 3.2.1\n",
            "\u001b[32m✔\u001b[39m \u001b[34mlubridate\u001b[39m 1.9.3     \u001b[32m✔\u001b[39m \u001b[34mtidyr    \u001b[39m 1.3.1\n",
            "\u001b[32m✔\u001b[39m \u001b[34mpurrr    \u001b[39m 1.0.2     \n",
            "── \u001b[1mConflicts\u001b[22m ────────────────────────────────────────── tidyverse_conflicts() ──\n",
            "\u001b[31m✖\u001b[39m \u001b[34mpurrr\u001b[39m::\u001b[32m%||%()\u001b[39m   masks \u001b[34mbase\u001b[39m::%||%()\n",
            "\u001b[31m✖\u001b[39m \u001b[34mdplyr\u001b[39m::\u001b[32mfilter()\u001b[39m masks \u001b[34mstats\u001b[39m::filter()\n",
            "\u001b[31m✖\u001b[39m \u001b[34mdplyr\u001b[39m::\u001b[32mlag()\u001b[39m    masks \u001b[34mstats\u001b[39m::lag()\n",
            "\u001b[36mℹ\u001b[39m Use the conflicted package (\u001b[3m\u001b[34m<http://conflicted.r-lib.org/>\u001b[39m\u001b[23m) to force all conflicts to become errors\n"
          ]
        }
      ]
    },
    {
      "cell_type": "markdown",
      "source": [
        "Sodann laden wir die Datensätze"
      ],
      "metadata": {
        "id": "Q4XMzo0tgeOm"
      }
    },
    {
      "cell_type": "code",
      "source": [
        "# Datensatz herunterladen\n",
        "download.file(\n",
        "  url = \"http://getoutthevote-darmstadt.de/upload/voto2024-partyposthesen.xlsx?raw=true\",\n",
        "  destfile = \"voto2024partypos.xlsx\"\n",
        "  )\n",
        "\n",
        "# Datensatz in R einbinden\n",
        "partypos <- read_excel(\"voto2024partypos.xlsx\")"
      ],
      "metadata": {
        "id": "LtfprUA_glW-"
      },
      "execution_count": 3,
      "outputs": []
    },
    {
      "cell_type": "markdown",
      "source": [
        "**Voto für die Kommunalwahlen 2024**\n",
        "\n"
      ],
      "metadata": {
        "id": "YKeKsjkKKRH4"
      }
    },
    {
      "cell_type": "code",
      "source": [
        "glimpse(partypos)"
      ],
      "metadata": {
        "id": "sRvWc7DiP2pd",
        "outputId": "cef46922-f9c8-442a-ddfc-752b4232606d",
        "colab": {
          "base_uri": "https://localhost:8080/"
        }
      },
      "execution_count": 4,
      "outputs": [
        {
          "output_type": "stream",
          "name": "stdout",
          "text": [
            "Rows: 3,043\n",
            "Columns: 10\n",
            "$ gmd_name     \u001b[3m\u001b[90m<chr>\u001b[39m\u001b[23m \"Mannheim\", \"Mannheim\", \"Mannheim\", \"Mannheim\", \"Mannheim…\n",
            "$ gmd_key      \u001b[3m\u001b[90m<chr>\u001b[39m\u001b[23m \"08222000\", \"08222000\", \"08222000\", \"08222000\", \"08222000…\n",
            "$ these_id     \u001b[3m\u001b[90m<chr>\u001b[39m\u001b[23m \"local_7\", \"local_7\", \"local_7\", \"local_7\", \"local_7\", \"l…\n",
            "$ these_title  \u001b[3m\u001b[90m<chr>\u001b[39m\u001b[23m \"Nationaltheater\", \"Nationaltheater\", \"Nationaltheater\", …\n",
            "$ statement    \u001b[3m\u001b[90m<chr>\u001b[39m\u001b[23m \"An der Nationaltheater-Sanierung wird festgehalten, egal…\n",
            "$ statement2   \u001b[3m\u001b[90m<chr>\u001b[39m\u001b[23m \"An der Nationaltheater-Sanierung wird festgehalten, egal…\n",
            "$ party        \u001b[3m\u001b[90m<chr>\u001b[39m\u001b[23m \"Freie Wähler-ML\", \"DIE MANNHEIMER\", \"MfM\", \"KLIMALISTE\",…\n",
            "$ valuation    \u001b[3m\u001b[90m<dbl>\u001b[39m\u001b[23m 75, 0, 0, 25, 25, 75, 75, 75, 50, 50, 75, 25, 0, 100, 0, …\n",
            "$ position_str \u001b[3m\u001b[90m<chr>\u001b[39m\u001b[23m \"Zustimmung\", \"Starke Ablehnung\", \"Starke Ablehnung\", \"Ab…\n",
            "$ explanation  \u001b[3m\u001b[90m<chr>\u001b[39m\u001b[23m \"keine Begründung angegeben\", \"Das Nationaltheater ist ei…\n"
          ]
        }
      ]
    },
    {
      "cell_type": "markdown",
      "source": [
        "Schließlich können wir auch die oft vertraute \"Excel-Perspektive\" konsultieren (dazu spielen wir mal verschiedene Filter durch):"
      ],
      "metadata": {
        "id": "MrD3rgtuihDJ"
      }
    },
    {
      "cell_type": "code",
      "source": [
        "partypos %>%\n",
        "  filter(party == \"SPD\")"
      ],
      "metadata": {
        "id": "mxMRDNvZ4cA_"
      },
      "execution_count": null,
      "outputs": []
    },
    {
      "cell_type": "code",
      "source": [
        "partypos %>%\n",
        "  filter(gmd_name == \"Halle\")"
      ],
      "metadata": {
        "collapsed": true,
        "id": "bq2m89ny4mRe"
      },
      "execution_count": null,
      "outputs": []
    },
    {
      "cell_type": "code",
      "source": [
        "partypos %>%\n",
        "  filter(these_title == \"Wahlalter zur Kommunalwahl\")"
      ],
      "metadata": {
        "id": "amz4INTn4rsR"
      },
      "execution_count": null,
      "outputs": []
    },
    {
      "cell_type": "code",
      "source": [
        "partypos %>%\n",
        "  filter(str_detect(these_title, \"Wahl\"))"
      ],
      "metadata": {
        "id": "pVH14fXK54tO"
      },
      "execution_count": null,
      "outputs": []
    },
    {
      "cell_type": "markdown",
      "source": [
        "**Darstellung von Parteipositionen**"
      ],
      "metadata": {
        "id": "s2chZQrV6EIB"
      }
    },
    {
      "cell_type": "code",
      "source": [
        "# Parteifarben definieren\n",
        "partycolors <- c(\n",
        "  \"CDU\" = \"black\",\n",
        "  \"SPD\" = \"red\",\n",
        "  \"FDP\" = \"yellow\",\n",
        "  \"AfD\" = \"blue\",\n",
        "  \"DIE LINKE\" = \"darkred\",\n",
        "  \"Grüne\" = \"green\",\n",
        "  \"Freie Wähler\" = \"lightblue\",\n",
        "  \"Volt\" = \"#502379\")"
      ],
      "metadata": {
        "id": "P7En2PvH9KLF"
      },
      "execution_count": 18,
      "outputs": []
    },
    {
      "cell_type": "code",
      "source": [
        "partypos %>%\n",
        "  count(party, sort = TRUE)"
      ],
      "metadata": {
        "id": "Dda6qjtt6MKe"
      },
      "execution_count": null,
      "outputs": []
    },
    {
      "cell_type": "code",
      "source": [
        "pos_wahlalter <- partypos %>%\n",
        "  filter(party %in% c(\"CDU\", \"SPD\", \"FDP\", \"AfD\", \"FDP\", \"DIE LINKE\", \"Grüne\", \"Freie Wähler\", \"Volt\")) %>%\n",
        "  filter(these_title == \"Wahlalter zur Kommunalwahl\")"
      ],
      "metadata": {
        "id": "NexNio9H6a73"
      },
      "execution_count": null,
      "outputs": []
    },
    {
      "cell_type": "code",
      "source": [
        "# Wie stehen die Parteien zum Wahlrecht für Nicht-EU-Ausländer\n",
        "partypos %>%\n",
        "  filter(party %in% c(\"CDU\", \"SPD\", \"FDP\", \"AfD\", \"DIE LINKE\", \"Grüne\", \"Freie Wähler\", \"Volt\")) %>%\n",
        "  filter(these_title == \"Wahlrecht für Nicht-EU-Ausländer\") %>%\n",
        "  ggplot(aes(x = 1, y = valuation, color = party)) +\n",
        "  geom_jitter(width = .20, height = 0) +\n",
        "  scale_y_continuous(limits = c(0, 100),\n",
        "                     breaks = seq(0, 100, 20)) +\n",
        "  scale_color_manual(\n",
        "    values = partycolors\n",
        "  ) +\n",
        "  coord_flip() +\n",
        "  theme_minimal()"
      ],
      "metadata": {
        "id": "zkXhYOfi63I0",
        "outputId": "7c24d96d-681b-4c45-8fd7-7850d3335c42",
        "colab": {
          "base_uri": "https://localhost:8080/",
          "height": 437
        }
      },
      "execution_count": 19,
      "outputs": [
        {
          "output_type": "display_data",
          "data": {
            "text/plain": [
              "plot without title"
            ],
            "image/png": "[encoded data removed]"
          },
          "metadata": {
            "image/png": {
              "width": 420,
              "height": 420
            }
          }
        }
      ]
    },
    {
      "cell_type": "code",
      "source": [
        "# Wie stehen die Parteien zum Wahlrecht für Nicht-EU-Ausländer?"
      ],
      "metadata": {
        "id": "KACPJirm9RLT"
      },
      "execution_count": null,
      "outputs": []
    }
  ]
}