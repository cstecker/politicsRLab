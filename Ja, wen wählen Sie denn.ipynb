{
  "nbformat": 4,
  "nbformat_minor": 0,
  "metadata": {
    "colab": {
      "provenance": [],
      "include_colab_link": true
    },
    "kernelspec": {
      "name": "ir",
      "display_name": "R"
    },
    "language_info": {
      "name": "R"
    }
  },
  "cells": [
    {
      "cell_type": "markdown",
      "metadata": {
        "id": "view-in-github",
        "colab_type": "text"
      },
      "source": [
        "<a href=\"https://colab.research.google.com/github/cstecker/politicsRLab/blob/main/Ja%2C%20wen%20w%C3%A4hlen%20Sie%20denn.ipynb\" target=\"_parent\"><img src=\"https://colab.research.google.com/assets/colab-badge.svg\" alt=\"Open In Colab\"/></a>"
      ]
    },
    {
      "cell_type": "code",
      "source": [],
      "metadata": {
        "id": "aUPQ1W9WW1ev"
      },
      "execution_count": null,
      "outputs": []
    },
    {
      "cell_type": "markdown",
      "source": [
        "# **Ja, wen wählen Sie denn?**\n",
        "\n",
        "---\n",
        "\n",
        "\n",
        "\n"
      ],
      "metadata": {
        "id": "HYVMYChAR_IV"
      }
    },
    {
      "cell_type": "markdown",
      "source": [
        "**Alle Befehle bzw. Code-Schnipsel können Sie mit *Strg+Enter* oder durch das klicken des Play-Buttons passagenweise ausführen.** Darunter sehen Sie dann jeweils welches Ergebnis die jeweiligen Zeilen produzieren.\n",
        "Sie können die Zeilen auch verändern und schauen, wie sich der Code verändert."
      ],
      "metadata": {
        "id": "cDCLfZPDdgD4"
      }
    },
    {
      "cell_type": "markdown",
      "source": [
        "Wir laden zunächst die Library mit den Befehlen, die wir bei der Analyse benötigen."
      ],
      "metadata": {
        "id": "IzxOxIJf1O35"
      }
    },
    {
      "cell_type": "code",
      "source": [
        "library(tidyverse)"
      ],
      "metadata": {
        "id": "qt0Jt6wndcIO",
        "colab": {
          "base_uri": "https://localhost:8080/"
        },
        "outputId": "b1e75b72-45f5-4b75-b741-a8cce1125d1f"
      },
      "execution_count": 8,
      "outputs": [
        {
          "output_type": "stream",
          "name": "stderr",
          "text": [
            "── \u001b[1mAttaching core tidyverse packages\u001b[22m ──────────────────────── tidyverse 2.0.0 ──\n",
            "\u001b[32m✔\u001b[39m \u001b[34mdplyr    \u001b[39m 1.1.3     \u001b[32m✔\u001b[39m \u001b[34mreadr    \u001b[39m 2.1.4\n",
            "\u001b[32m✔\u001b[39m \u001b[34mforcats  \u001b[39m 1.0.0     \u001b[32m✔\u001b[39m \u001b[34mstringr  \u001b[39m 1.5.0\n",
            "\u001b[32m✔\u001b[39m \u001b[34mggplot2  \u001b[39m 3.4.4     \u001b[32m✔\u001b[39m \u001b[34mtibble   \u001b[39m 3.2.1\n",
            "\u001b[32m✔\u001b[39m \u001b[34mlubridate\u001b[39m 1.9.3     \u001b[32m✔\u001b[39m \u001b[34mtidyr    \u001b[39m 1.3.0\n",
            "\u001b[32m✔\u001b[39m \u001b[34mpurrr    \u001b[39m 1.0.2     \n",
            "── \u001b[1mConflicts\u001b[22m ────────────────────────────────────────── tidyverse_conflicts() ──\n",
            "\u001b[31m✖\u001b[39m \u001b[34mdplyr\u001b[39m::\u001b[32mfilter()\u001b[39m masks \u001b[34mstats\u001b[39m::filter()\n",
            "\u001b[31m✖\u001b[39m \u001b[34mdplyr\u001b[39m::\u001b[32mlag()\u001b[39m    masks \u001b[34mstats\u001b[39m::lag()\n",
            "\u001b[36mℹ\u001b[39m Use the conflicted package (\u001b[3m\u001b[34m<http://conflicted.r-lib.org/>\u001b[39m\u001b[23m) to force all conflicts to become errors\n"
          ]
        }
      ]
    },
    {
      "cell_type": "markdown",
      "source": [
        "Nun laden wir uns den Datensatz zur Vorlesungsumfrage, mit dem wir weiter arbeiten wollen. (Der aufbereitete Datensatz wird auf github bereitgestellt. Die Details hierzu müssen uns erst einmal nicht weiter kümmern)."
      ],
      "metadata": {
        "id": "vUn4nP8m15sO"
      }
    },
    {
      "cell_type": "code",
      "source": [
        "# Datensatz herunterladen -------------------------------------------------------------\n",
        "download.file(\"https://github.com/cstecker/politicsRLab/blob/2d616affde737c631224f6461e18bdafdfd387f0/data/gles_for_app.rds?raw=TRUE\", \"gles_for_app.rds\")\n",
        "#download.file(\"https://github.com/cstecker/politicsRLab/blob/main/data/survey2023-10_colab.rds?raw=true\", \"survey2023-10_colab.rds\")"
      ],
      "metadata": {
        "id": "R3dYftv9dlPH"
      },
      "execution_count": 4,
      "outputs": []
    },
    {
      "cell_type": "code",
      "source": [
        "# Datensatz in die Analyseplattform laden\n",
        "gles <- readRDS(\"gles_for_app.rds\")"
      ],
      "metadata": {
        "id": "UTPK6uS944uq"
      },
      "execution_count": 5,
      "outputs": []
    },
    {
      "cell_type": "markdown",
      "source": [
        "Wir verschaffen uns nun einen ersten Blick auf den Datensatz, indem wir mit ```glimpse``` eine Auflistung aller Variablen mit weiteren Informationen erzeugen."
      ],
      "metadata": {
        "id": "y8LX5h1sdl2-"
      }
    },
    {
      "cell_type": "code",
      "source": [
        "glimpse(gles)"
      ],
      "metadata": {
        "id": "-CKFVM6uduJH",
        "colab": {
          "base_uri": "https://localhost:8080/"
        },
        "outputId": "8b529b6e-f19b-4ce2-f6fd-30469e157012"
      },
      "execution_count": 9,
      "outputs": [
        {
          "output_type": "stream",
          "name": "stdout",
          "text": [
            "Rows: 3,431\n",
            "Columns: 17\n",
            "$ vote2nd           \u001b[3m\u001b[90m<fct>\u001b[39m\u001b[23m spd, fdp, gru, spd, cdu, cdu, spd, gru, gru, cdu, gr…\n",
            "$ geschlecht        \u001b[3m\u001b[90m<fct>\u001b[39m\u001b[23m weiblich, maennlich, weiblich, maennlich, weiblich, …\n",
            "$ age               \u001b[3m\u001b[90m<dbl>\u001b[39m\u001b[23m 27, 22, 32, 40, 59, 58, 54, 59, 56, 70, 75, 77, 85, …\n",
            "$ schulbildung      \u001b[3m\u001b[90m<fct>\u001b[39m\u001b[23m \"Realschulabschluss, Mittlere Reife, Fachschulreife …\n",
            "$ satisdemo         \u001b[3m\u001b[90m<int>\u001b[39m\u001b[23m 3, 3, 3, 3, 4, 3, 3, 3, 3, 3, 3, 2, 4, 3, 3, 2, 2, 2…\n",
            "$ konfession        \u001b[3m\u001b[90m<fct>\u001b[39m\u001b[23m keiner Religionsgemeinschaft, der evangelischen Kirc…\n",
            "$ lire_self         \u001b[3m\u001b[90m<dbl>\u001b[39m\u001b[23m 6, 7, 4, 3, 1, 9, 2, 4, 6, 7, 4, 4, 10, NA, 7, 11, 7…\n",
            "$ econ_self         \u001b[3m\u001b[90m<dbl>\u001b[39m\u001b[23m 11, NA, 4, 3, 7, 7, 5, 4, 6, 7, 3, 6, 7, 9, NA, 1, 7…\n",
            "$ immi_self         \u001b[3m\u001b[90m<dbl>\u001b[39m\u001b[23m 9, NA, 3, 4, 8, 9, 5, 2, 4, 4, 2, 10, 8, 11, 6, 11, …\n",
            "$ klima_self        \u001b[3m\u001b[90m<dbl>\u001b[39m\u001b[23m 5, 4, 1, 1, 1, 7, 1, 1, 1, 4, 1, 8, 8, 5, 5, 1, 5, 3…\n",
            "$ pref_assimilation \u001b[3m\u001b[90m<int>\u001b[39m\u001b[23m 4, 4, 3, 3, 4, 4, 4, 4, 2, 4, 3, 5, 2, 4, 5, 5, 3, 4…\n",
            "$ pref_genderquote  \u001b[3m\u001b[90m<int>\u001b[39m\u001b[23m 2, 5, 2, 2, 3, 3, 2, 5, 1, 5, 2, 3, 4, 3, 4, 1, 1, 3…\n",
            "$ pref_stateecon    \u001b[3m\u001b[90m<int>\u001b[39m\u001b[23m 3, 2, 4, 4, 3, 4, 3, 5, 4, 4, 3, 4, 2, 4, 4, 1, 4, 2…\n",
            "$ pref_incomeequal  \u001b[3m\u001b[90m<int>\u001b[39m\u001b[23m 1, 4, 3, 1, 1, 3, 2, 1, 1, 3, 2, 2, 5, 4, 2, 2, 2, 3…\n",
            "$ pref_euinteg      \u001b[3m\u001b[90m<int>\u001b[39m\u001b[23m 2, 2, 2, 2, 3, 4, 2, 2, 2, 2, 2, 4, 2, 4, 1, 1, 1, 3…\n",
            "$ pref_fossil       \u001b[3m\u001b[90m<int>\u001b[39m\u001b[23m 4, 4, 3, 2, 1, 3, 2, 1, 1, 2, 2, 5, 2, 3, 4, 5, 3, 5…\n",
            "$ pref_freedom      \u001b[3m\u001b[90m<int>\u001b[39m\u001b[23m 5, 5, 3, 4, 5, 4, 4, 5, 4, 5, 2, 4, 4, 3, 4, 5, 3, 3…\n"
          ]
        }
      ]
    },
    {
      "cell_type": "markdown",
      "source": [
        "Sodann wollen wir uns auch noch die vertraute Excel-Ansicht anschauen."
      ],
      "metadata": {
        "id": "BCNouYvLeIH0"
      }
    },
    {
      "cell_type": "code",
      "source": [
        "gles %>%\n",
        "  # wir ziehen eine Zufallsstichprobe von 10\n",
        "  sample_n(10) %>%\n",
        "  # wir wählen uns wenige Variablen aus, die wir ansehen wollen\n",
        "  select(geschlecht, age, schulbildung, vote2nd) %>%\n",
        "  View()"
      ],
      "metadata": {
        "id": "qaDvePlYbD6I",
        "colab": {
          "base_uri": "https://localhost:8080/",
          "height": 411
        },
        "outputId": "4467e070-b938-4766-d742-789ceb7ea8aa"
      },
      "execution_count": 11,
      "outputs": [
        {
          "output_type": "display_data",
          "data": {
            "text/plain": [
              "   geschlecht age\n",
              "1  weiblich   58 \n",
              "2  weiblich   58 \n",
              "3  weiblich   55 \n",
              "4  weiblich   47 \n",
              "5  weiblich   55 \n",
              "6  weiblich   48 \n",
              "7  maennlich  57 \n",
              "8  maennlich  86 \n",
              "9  maennlich  57 \n",
              "10 maennlich  69 \n",
              "   schulbildung                                                                                               \n",
              "1  Hauptschulabschluss, Volksschulabschluss, Abschluss der Polytechnischen Oberschule 8. oder 9. Klasse       \n",
              "2  NA                                                                                                         \n",
              "3  Abitur bzw. erweiterte Oberschule mit Abschluss 12. Klasse (Hochschulreife)                                \n",
              "4  Abitur bzw. erweiterte Oberschule mit Abschluss 12. Klasse (Hochschulreife)                                \n",
              "5  Abitur bzw. erweiterte Oberschule mit Abschluss 12. Klasse (Hochschulreife)                                \n",
              "6  Abitur bzw. erweiterte Oberschule mit Abschluss 12. Klasse (Hochschulreife)                                \n",
              "7  Realschulabschluss, Mittlere Reife, Fachschulreife oder Abschluss der Polytechnischen Oberschule 10. Klasse\n",
              "8  Abitur bzw. erweiterte Oberschule mit Abschluss 12. Klasse (Hochschulreife)                                \n",
              "9  Hauptschulabschluss, Volksschulabschluss, Abschluss der Polytechnischen Oberschule 8. oder 9. Klasse       \n",
              "10 Hauptschulabschluss, Volksschulabschluss, Abschluss der Polytechnischen Oberschule 8. oder 9. Klasse       \n",
              "   vote2nd\n",
              "1  NA     \n",
              "2  oth    \n",
              "3  gru    \n",
              "4  cdu    \n",
              "5  gru    \n",
              "6  cdu    \n",
              "7  cdu    \n",
              "8  spd    \n",
              "9  oth    \n",
              "10 NA     "
            ],
            "text/html": [
              "<table class=\"dataframe\">\n",
              "<caption>A tibble: 10 × 4</caption>\n",
              "<thead>\n",
              "\t<tr><th scope=col>geschlecht</th><th scope=col>age</th><th scope=col>schulbildung</th><th scope=col>vote2nd</th></tr>\n",
              "\t<tr><th scope=col>&lt;fct&gt;</th><th scope=col>&lt;dbl&gt;</th><th scope=col>&lt;fct&gt;</th><th scope=col>&lt;fct&gt;</th></tr>\n",
              "</thead>\n",
              "<tbody>\n",
              "\t<tr><td>weiblich </td><td>58</td><td>Hauptschulabschluss, Volksschulabschluss, Abschluss der Polytechnischen Oberschule 8. oder 9. Klasse       </td><td>NA </td></tr>\n",
              "\t<tr><td>weiblich </td><td>58</td><td>NA                                                                                                         </td><td>oth</td></tr>\n",
              "\t<tr><td>weiblich </td><td>55</td><td>Abitur bzw. erweiterte Oberschule mit Abschluss 12. Klasse (Hochschulreife)                                </td><td>gru</td></tr>\n",
              "\t<tr><td>weiblich </td><td>47</td><td>Abitur bzw. erweiterte Oberschule mit Abschluss 12. Klasse (Hochschulreife)                                </td><td>cdu</td></tr>\n",
              "\t<tr><td>weiblich </td><td>55</td><td>Abitur bzw. erweiterte Oberschule mit Abschluss 12. Klasse (Hochschulreife)                                </td><td>gru</td></tr>\n",
              "\t<tr><td>weiblich </td><td>48</td><td>Abitur bzw. erweiterte Oberschule mit Abschluss 12. Klasse (Hochschulreife)                                </td><td>cdu</td></tr>\n",
              "\t<tr><td>maennlich</td><td>57</td><td>Realschulabschluss, Mittlere Reife, Fachschulreife oder Abschluss der Polytechnischen Oberschule 10. Klasse</td><td>cdu</td></tr>\n",
              "\t<tr><td>maennlich</td><td>86</td><td>Abitur bzw. erweiterte Oberschule mit Abschluss 12. Klasse (Hochschulreife)                                </td><td>spd</td></tr>\n",
              "\t<tr><td>maennlich</td><td>57</td><td>Hauptschulabschluss, Volksschulabschluss, Abschluss der Polytechnischen Oberschule 8. oder 9. Klasse       </td><td>oth</td></tr>\n",
              "\t<tr><td>maennlich</td><td>69</td><td>Hauptschulabschluss, Volksschulabschluss, Abschluss der Polytechnischen Oberschule 8. oder 9. Klasse       </td><td>NA </td></tr>\n",
              "</tbody>\n",
              "</table>\n"
            ],
            "text/markdown": "\nA tibble: 10 × 4\n\n| geschlecht &lt;fct&gt; | age &lt;dbl&gt; | schulbildung &lt;fct&gt; | vote2nd &lt;fct&gt; |\n|---|---|---|---|\n| weiblich  | 58 | Hauptschulabschluss, Volksschulabschluss, Abschluss der Polytechnischen Oberschule 8. oder 9. Klasse        | NA  |\n| weiblich  | 58 | NA                                                                                                          | oth |\n| weiblich  | 55 | Abitur bzw. erweiterte Oberschule mit Abschluss 12. Klasse (Hochschulreife)                                 | gru |\n| weiblich  | 47 | Abitur bzw. erweiterte Oberschule mit Abschluss 12. Klasse (Hochschulreife)                                 | cdu |\n| weiblich  | 55 | Abitur bzw. erweiterte Oberschule mit Abschluss 12. Klasse (Hochschulreife)                                 | gru |\n| weiblich  | 48 | Abitur bzw. erweiterte Oberschule mit Abschluss 12. Klasse (Hochschulreife)                                 | cdu |\n| maennlich | 57 | Realschulabschluss, Mittlere Reife, Fachschulreife oder Abschluss der Polytechnischen Oberschule 10. Klasse | cdu |\n| maennlich | 86 | Abitur bzw. erweiterte Oberschule mit Abschluss 12. Klasse (Hochschulreife)                                 | spd |\n| maennlich | 57 | Hauptschulabschluss, Volksschulabschluss, Abschluss der Polytechnischen Oberschule 8. oder 9. Klasse        | oth |\n| maennlich | 69 | Hauptschulabschluss, Volksschulabschluss, Abschluss der Polytechnischen Oberschule 8. oder 9. Klasse        | NA  |\n\n",
            "text/latex": "A tibble: 10 × 4\n\\begin{tabular}{llll}\n geschlecht & age & schulbildung & vote2nd\\\\\n <fct> & <dbl> & <fct> & <fct>\\\\\n\\hline\n\t weiblich  & 58 & Hauptschulabschluss, Volksschulabschluss, Abschluss der Polytechnischen Oberschule 8. oder 9. Klasse        & NA \\\\\n\t weiblich  & 58 & NA                                                                                                          & oth\\\\\n\t weiblich  & 55 & Abitur bzw. erweiterte Oberschule mit Abschluss 12. Klasse (Hochschulreife)                                 & gru\\\\\n\t weiblich  & 47 & Abitur bzw. erweiterte Oberschule mit Abschluss 12. Klasse (Hochschulreife)                                 & cdu\\\\\n\t weiblich  & 55 & Abitur bzw. erweiterte Oberschule mit Abschluss 12. Klasse (Hochschulreife)                                 & gru\\\\\n\t weiblich  & 48 & Abitur bzw. erweiterte Oberschule mit Abschluss 12. Klasse (Hochschulreife)                                 & cdu\\\\\n\t maennlich & 57 & Realschulabschluss, Mittlere Reife, Fachschulreife oder Abschluss der Polytechnischen Oberschule 10. Klasse & cdu\\\\\n\t maennlich & 86 & Abitur bzw. erweiterte Oberschule mit Abschluss 12. Klasse (Hochschulreife)                                 & spd\\\\\n\t maennlich & 57 & Hauptschulabschluss, Volksschulabschluss, Abschluss der Polytechnischen Oberschule 8. oder 9. Klasse        & oth\\\\\n\t maennlich & 69 & Hauptschulabschluss, Volksschulabschluss, Abschluss der Polytechnischen Oberschule 8. oder 9. Klasse        & NA \\\\\n\\end{tabular}\n"
          },
          "metadata": {}
        }
      ]
    }
  ]
}