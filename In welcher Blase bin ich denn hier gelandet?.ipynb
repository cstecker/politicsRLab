{
  "nbformat": 4,
  "nbformat_minor": 0,
  "metadata": {
    "colab": {
      "provenance": [],
      "include_colab_link": true
    },
    "kernelspec": {
      "name": "ir",
      "display_name": "R"
    },
    "language_info": {
      "name": "R"
    }
  },
  "cells": [
    {
      "cell_type": "markdown",
      "metadata": {
        "id": "view-in-github",
        "colab_type": "text"
      },
      "source": [
        "<a href=\"https://colab.research.google.com/github/cstecker/politicsRLab/blob/main/In%20welcher%20Blase%20bin%20ich%20denn%20hier%20gelandet%3F.ipynb\" target=\"_parent\"><img src=\"https://colab.research.google.com/assets/colab-badge.svg\" alt=\"Open In Colab\"/></a>"
      ]
    },
    {
      "cell_type": "markdown",
      "source": [
        "# **In welcher Blase bin ich denn hier gelandet?**\n",
        "\n",
        "Zum Einstieg wollen wir mit ein paar einfachen Analysen loslegen. Am besten schauen wir uns erstmal unsere Kommillitonen etwas genauer an, die mit uns in der Vorlesung sitzen.\n",
        "\n",
        "Dazu nutzen wir das Colab von google. Es erlaubt uns, das Statistikprogramm R zu nutzen ohne das wir uns mit der Installation oder Paketeverwaltung ausführlich beschäftigen müssen. (Sie können alles aber auch wie die Profis  in R-Studio implementieren. Weitere Infos dazu finden Sie hier: [LINK](http://chrstecker.de/teaching/ein-appetizer-fuer-die-datenanalyse-mit-r/))\n",
        "\n"
      ],
      "metadata": {
        "id": "HYVMYChAR_IV"
      }
    },
    {
      "cell_type": "markdown",
      "source": [
        "**Alle Befehle bzw. Code-Schnipsel können Sie mit *Strg+Enter* oder durch das klicken des Play-Buttons passagenweise ausführen.** Darunter sehen Sie dann jeweils welches Ergebnis die jeweiligen Zeilen produzieren.\n",
        "Sie können die Zeilen auch verändern und schauen, wie sich der Code verändert."
      ],
      "metadata": {
        "id": "cDCLfZPDdgD4"
      }
    },
    {
      "cell_type": "markdown",
      "source": [
        "Laden wir uns zunächst die Library mit den Befehlen, die wir bei der Analyse benötigen. Libraries sind Bibliotheken von Befehlen. Das tidyverse ist eine ganze Sammlung von Paketen, die insbesondere von Hadley Wickham, einem Superstar in der R-Welt, geprägt wurden:"
      ],
      "metadata": {
        "id": "IzxOxIJf1O35"
      }
    },
    {
      "cell_type": "code",
      "source": [
        "library(tidyverse)"
      ],
      "metadata": {
        "id": "qt0Jt6wndcIO"
      },
      "execution_count": null,
      "outputs": []
    },
    {
      "cell_type": "markdown",
      "source": [
        "Nun laden wir uns den Datensatz zur Vorlesungsumfrage, mit dem wir weiter arbeiten wollen. (Der aufbereitete Datensatz wird auf github bereitgestellt. Die Details hierzu müssen uns erst einmal nicht weiter kümmern)."
      ],
      "metadata": {
        "id": "vUn4nP8m15sO"
      }
    },
    {
      "cell_type": "code",
      "source": [
        "# Datensatz herunterladen -------------------------------------------------------------\n",
        "download.file(\"https://github.com/cstecker/politicsRLab/blob/main/data/survey2024-10_colab.rds?raw=true\", \"survey2024-10_colab.rds\")"
      ],
      "metadata": {
        "id": "R3dYftv9dlPH"
      },
      "execution_count": null,
      "outputs": []
    },
    {
      "cell_type": "code",
      "source": [
        "# Datensatz in die Analyseplattform laden\n",
        "survey <- readRDS(\"survey2024-10_colab.rds\")"
      ],
      "metadata": {
        "id": "UTPK6uS944uq"
      },
      "execution_count": null,
      "outputs": []
    },
    {
      "cell_type": "markdown",
      "source": [
        "Für einen ersten Blick auf die Daten geben wir ein:"
      ],
      "metadata": {
        "id": "y8LX5h1sdl2-"
      }
    },
    {
      "cell_type": "code",
      "source": [
        "glimpse(survey)"
      ],
      "metadata": {
        "id": "-CKFVM6uduJH"
      },
      "execution_count": null,
      "outputs": []
    },
    {
      "cell_type": "markdown",
      "source": [
        "Wir erhalten nun eine Auflistung aller Variablen mit weiteren Informationen. In der linken Spalte sehen wir die Variablen des Datensatzes. Jeweils rechts daneben steht eine kleine Übersicht über die Antworten der Studierenden.\n",
        "Aus der Excelwelt sind uns rechteckige Datensätze vertraut. Auch so können wir auf die Daten schauen - in den Zeilen sind Fälle (also Kommillitonen), in den Spalten Variablen."
      ],
      "metadata": {
        "id": "BCNouYvLeIH0"
      }
    },
    {
      "cell_type": "code",
      "source": [
        "survey %>% View()"
      ],
      "metadata": {
        "id": "qaDvePlYbD6I"
      },
      "execution_count": null,
      "outputs": []
    },
    {
      "cell_type": "markdown",
      "source": [
        "Schauen wir uns mal ein paar Eigenschaften unserer Kommillitionen an. Wie ist denn die Geschlechterverteilung?"
      ],
      "metadata": {
        "id": "7z0GNxrHbGhg"
      }
    },
    {
      "cell_type": "code",
      "source": [
        "survey %>% count(geschlecht)"
      ],
      "metadata": {
        "id": "ucZwNCBCeJvx"
      },
      "execution_count": null,
      "outputs": []
    },
    {
      "cell_type": "markdown",
      "source": [
        "Versuchen Sie *count* mal selbst, z. B. mit der Variable *immi_self*!"
      ],
      "metadata": {
        "id": "u5TU-CEwbzxH"
      }
    },
    {
      "cell_type": "code",
      "source": [
        "# Hier könnte/sollte ihr Code stehen\n",
        "survey %>% count(immi_self)"
      ],
      "metadata": {
        "id": "kTIdNVYibyiT"
      },
      "execution_count": null,
      "outputs": []
    },
    {
      "cell_type": "markdown",
      "source": [
        "## **Wie würden die Kursteilnehmer abstimmen, wenn am nächsten Sonntag Bundestagswahl wäre?**\n",
        "\n",
        "Nun sind wir neugierig, welcher Partei unsere Kommillitoninnen und Kommillitonen anhängen. Diese Information ist in der Variable vote hinterlegt:"
      ],
      "metadata": {
        "id": "iagWUVmBefr9"
      }
    },
    {
      "cell_type": "code",
      "source": [
        "survey %>% count(vote)"
      ],
      "metadata": {
        "id": "qxKj63zvellT"
      },
      "execution_count": null,
      "outputs": []
    },
    {
      "cell_type": "markdown",
      "source": [
        "Wie unordentlich bei diesem zersplitterten Parteiensystem. Wir müssen sortieren!"
      ],
      "metadata": {
        "id": "kBsRuzH7dLV1"
      }
    },
    {
      "cell_type": "code",
      "source": [
        "survey %>% count(vote, sort = TRUE)"
      ],
      "metadata": {
        "id": "qDG7LfBUdKsU"
      },
      "execution_count": null,
      "outputs": []
    },
    {
      "cell_type": "markdown",
      "source": [
        "Und jetzt noch Prozente. Die Prozente berechnen wir mit *mutate* – dies ist das *tidyverse*-Verb zum Generieren neuer Variablen. Erst berechnen wir *totalvote*. Dies ist die Gesamtzahl aller Stimmen. Mit einem Komma abgetrennt, haben wir eine weitere Variable, *share* erstellt, die uns die Prozente ausgibt. Und wir haben gleich noch gelernt, dass man Kommentare mit einem anführenden # in den Code schreiben kann. Kommentieren Sie am besten immer ausführlicher als Sie es im Moment für notwendig erachten. Dann schauen Sie in vierzehn Tagen weniger ratlos auf den Code, den Sie vor vierzehn Tagen selbst flüssig heruntergeschrieben haben.\n",
        "\n",
        "Wenn Sie dies vertiefen wollen, lesen Sie sich dazu am besten auch das Kapitel in [R for DataScience](https://r4ds.had.co.nz/) durch. Da wir R als Programmiersprache in Colab nutzen, lässt sich alles von dort auch hier anwenden!"
      ],
      "metadata": {
        "id": "NKeAcWEteQVD"
      }
    },
    {
      "cell_type": "code",
      "source": [
        "survey %>%\n",
        "  count(vote) %>%\n",
        "  # Berechnen der Prozentanteile mit mutate, die neuen Variablen nennen wir dann totalvotes und share\n",
        "  mutate(totalvotes = sum(n),\n",
        "         share = n/totalvotes*100)"
      ],
      "metadata": {
        "id": "3CmkNyUkfCK2"
      },
      "execution_count": null,
      "outputs": []
    },
    {
      "cell_type": "markdown",
      "source": [
        "Und jetzt noch ein Balkendiagramm. Mit dem Balkendiagramm lernen wir ggplot2, das Visualisierungspaket im *tidyverse* kennen. Mit “ggplot” wird der Grafikbefehl gestartet. Ab da weiß R bzw. Colab, dass nun ggplot-Befehle kommen. Danach werden weitere ggplot-Befehle mit “+” verknüpft (Achtung: hier nicht “%>%” benutzen). Danach sagen wir Colab, welche Art des Graphs, das Geom, gezeichnet werden soll. Mit *geom_col* sagen wir Colab, dass die Daten als Balken (Columns) dargestellt werden sollen und konkretisieren in *(aes(x = vote, y = share))*, dass auf der x-Achse die unterschiedlichen Parteien und auf der y-Achse die Prozente bei der Sonntagsfrage abgebildet werden. Der letzte Abschnitt, *scale_x_discrete*, ist vorerst nicht wichtig zu verstehen, dient hier aber um die Namen der Parteien auf der x-Achse zu drehen, damit man sie besser zu lesen sind."
      ],
      "metadata": {
        "id": "SS-aNEU9fN4k"
      }
    },
    {
      "cell_type": "code",
      "source": [
        "survey %>%\n",
        "  count(vote) %>%\n",
        "  # Berechnen der Prozentanteile mit mutate, die neuen Variablen nennen wir dann totalvotes und share\n",
        "  mutate(totalvotes = sum(n),\n",
        "         share = n/totalvotes*100) %>%\n",
        "  ggplot() +\n",
        "  geom_col(aes(x = vote, y = share)) +\n",
        "  scale_x_discrete(guide = guide_axis(angle = 45))"
      ],
      "metadata": {
        "id": "jLM82CeKfRys"
      },
      "execution_count": null,
      "outputs": []
    },
    {
      "cell_type": "markdown",
      "source": [
        "Oha, es scheint, als wären wir in einer links-grünen Blase gelandet. Ein Blick auf [aktuelle Umfragen](https://wahlrecht.de) legt nahe, dass der durchschnittliche Bundesbürger politisch etwas anders tickt als Sie und Ihre Kommillitoninnen und Kommillitonen.\n",
        "\n",
        "Aber auch, wenn Sie zu den wenigen Konservativen im Kurs gehören, brauchen Sie sich keine Sorgen zu machen. Zum Glück respektieren sicher gerade an der Universität alle den fundamentalen Wert der Meinungsfreiheit und werden auch abweichenden Argumenten und Werthaltungen gegenüber respektvoll und aufgeschlossen sein. Sie brauchen auch nicht aus Höflichkeit über die politisch korrekten linksgrünen Scherze des Dozenten lachen. Er hat halt Marktforschung betrieben (Kursumfrage!) und will sich bei der Mehrheit anbiedern.\n",
        "\n",
        "Wie sieht es denn unter den männlichen Studierenden aus?"
      ],
      "metadata": {
        "id": "_osm4b92enhv"
      }
    },
    {
      "cell_type": "code",
      "source": [
        "survey %>%\n",
        "  # wir filtern den Datensatz nach Männer\n",
        "  filter(geschlecht == \"Männlich\") %>%\n",
        "  count(vote, sort = TRUE)"
      ],
      "metadata": {
        "id": "dPFsMHose3XQ"
      },
      "execution_count": null,
      "outputs": []
    },
    {
      "cell_type": "markdown",
      "source": [
        "Die letzten Befehle bestanden aus mehreren Zeilen, die durch “%>%” verbunden sind. Dies ist eine sogenannte pipe, die Befehle verknüpft. Die pipe nimmt jeweils den Output der vorhergehenden Zeile als Input der nachfolgenden Zeile, hier: Nimm Dir den survey-Datensatz, dann filtere weibliche Studierende heraus, dann zähle ihre Parteipräferenzen.\n",
        "Wir werden die pipe nun immer nutzen, da man damit komplexe Befehlsketten sehr übersichtlich strukturieren kann."
      ],
      "metadata": {
        "id": "NReSYMtSe5_H"
      }
    },
    {
      "cell_type": "markdown",
      "source": [
        "## **The Gender Gap in Voting: Evidence from the University of Darmstadt.**\n",
        "\n",
        "Jetzt lernen wir noch ein weiteres ggplot-geom kennen und nutzen dies gleich für eine Forschungsfrage.\n",
        "Als SozialwissenschaftlerInnen sind wir ständig auf der Suche nach Mustern und Erklärungen der politischen und sozialen Realität. Unser Datensatz erlaubt es uns, dass wir die Studierenden nach Geschlecht getrennt betrachten können, um eine Politikwissenschaftliche Theorie zu untersuchen. Der *Gender Gap in Voting* ist eine langanhaltende Diskussion in der Forschung, die Unterschiede im Wahlverhalten zwischen den Geschlechten untersucht. Viele Studien konnten dabei beobachten, dass weibliche Wählerinnen eher liberal und weniger konservativ wählen als männliche Personen. Ihr Wahlverhalten haben wir uns bereits angesehen, aber wir können auch schauen, ob die Frauen linker sind als die Männer. In der Umfrage wurden Sie gebeten, sich auf einer allgemeinen “Links-Rechts-Achse” selbst einzuordnen. Diese Information ist in der Variablen lire_self hinterlegt. Die Verteilung der Variablen bilden wir nun mit einem density-plot ab und lassen uns die Werte für die Geschlechter getrennt darstellen. Wenn die Theorie wahr wäre, sollten wir beobachten, dass die Männer unter ihnen eher rechte Werte auf der Skala wählen als weibliche Studierende.\n",
        "\n",
        "Um die Geschlechter zu vergleichen, erstellen wir eine Variable in der Studierenden der Wert *Male* zugeordnet wird, wenn sie männlich sind und der Wert *Female* wenn nicht. Dafür eignet sich der *ifelse* Befehl, wie der Name schon vermuten lässt."
      ],
      "metadata": {
        "id": "4pUrKi_Nfk8X"
      }
    },
    {
      "cell_type": "code",
      "source": [
        "survey %>% count(geschlecht)"
      ],
      "metadata": {
        "id": "_GbhDHyb6eT6"
      },
      "execution_count": null,
      "outputs": []
    },
    {
      "cell_type": "code",
      "source": [
        "survey %>%\n",
        "  # Hier filtern wir Personen raus, die keine Angabe zum Geschlecht gemacht haben\n",
        "  filter(geschlecht == \"Weiblich\" | geschlecht == \"Männlich\") %>%\n",
        "  drop_na(geschlecht, lire_self) %>%\n",
        "  mutate(lire_self = as.numeric(lire_self)) %>%\n",
        "  # ggplot soll uns die Links-Rechts-Achse auf x projizieren und für\n",
        "  # geschlecht unterschiedliche Farben und Füllung verwenden\n",
        "  ggplot(aes(x = lire_self, color = geschlecht, fill = geschlecht)) +\n",
        "  geom_density(alpha = 0.2, adjust = 1.5) +\n",
        "  labs(title = \"Sind männliche Studierende 'rechter'?\",\n",
        "       x = \"Links-Rechts-Selbsteinschätzung\")"
      ],
      "metadata": {
        "id": "XndxlB-KfwI2"
      },
      "execution_count": null,
      "outputs": []
    },
    {
      "cell_type": "markdown",
      "source": [
        "Studierende verhalten sich eben nicht hypothesenkonform, wenn man es mal bräuchte... Die beiden Verteilungen unterscheiden sich nicht nennenswert.\n",
        "\n",
        "Sie wissen jetzt übrigens auch, dass man mit *labs()* eine Abbildung und ihre Achsen beschriften kann.\n",
        "\n",
        "Eine umfangreichere Auswertung der Umfrage finden Sie auf moodle.\n",
        "\n",
        "Die Grafiken sind etwas schicker (haben aber auch deutlich mehr Zeit gekostet). Im Laufe des Kurses werden wir die Schönheit und Aussagekraft der Grafiken auch stetig verbessern."
      ],
      "metadata": {
        "id": "lc72rNzcfxUG"
      }
    },
    {
      "cell_type": "markdown",
      "source": [
        "## **Was sind Ihre eigenen Überlegungen?**\n",
        "\n",
        "Schreiben Sie doch mal ein bisschen Code!"
      ],
      "metadata": {
        "id": "bfjku8nagMGn"
      }
    },
    {
      "cell_type": "code",
      "source": [
        "# Hier könnte ihr Code stehen!"
      ],
      "metadata": {
        "id": "K7qXz_9DieEm"
      },
      "execution_count": null,
      "outputs": []
    }
  ]
}