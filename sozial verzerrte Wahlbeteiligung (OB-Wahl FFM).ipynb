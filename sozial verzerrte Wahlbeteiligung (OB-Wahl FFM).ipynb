{
  "nbformat": 4,
  "nbformat_minor": 0,
  "metadata": {
    "colab": {
      "provenance": [],
      "include_colab_link": true
    },
    "kernelspec": {
      "name": "ir",
      "display_name": "R"
    },
    "language_info": {
      "name": "R"
    }
  },
  "cells": [
    {
      "cell_type": "markdown",
      "metadata": {
        "id": "view-in-github",
        "colab_type": "text"
      },
      "source": [
        "<a href=\"https://colab.research.google.com/github/cstecker/politicsRLab/blob/main/sozial%20verzerrte%20Wahlbeteiligung%20(OB-Wahl%20FFM).ipynb\" target=\"_parent\"><img src=\"https://colab.research.google.com/assets/colab-badge.svg\" alt=\"Open In Colab\"/></a>"
      ]
    },
    {
      "cell_type": "markdown",
      "source": [
        "# **In welcher Blase bin ich denn hier gelandet?**\n",
        "\n",
        "Zum Einstieg wollen wir mit ein paar einfachen Analysen loslegen. Am besten schauen wir uns erstmal unsere Kommillitonen etwas genauer an, die mit uns in der Vorlesung sitzen. \n",
        "\n",
        "Dazu nutzen wir das Colab von google. Es erlaubt uns, das Statistikprogramm R zu nutzen ohne das wir uns mit der Installation oder Paketeverwaltung ausführlich beschäftigen müssen. (Sie können alles aber auch wie die Profis  in R-Studio implementieren. Weitere Infos dazu finden Sie hier: [LINK](http://chrstecker.de/teaching/ein-appetizer-fuer-die-datenanalyse-mit-r/))\n",
        "\n"
      ],
      "metadata": {
        "id": "HYVMYChAR_IV"
      }
    },
    {
      "cell_type": "markdown",
      "source": [
        "**Alle Befehle bzw. Code-Schnipsel können Sie mit *Strg+Enter* oder durch das klicken des Play-Buttons passagenweise ausführen.** Darunter sehen Sie dann jeweils welches Ergebnis die jeweiligen Zeilen produzieren.\n",
        "Sie können die Zeilen auch verändern und schauen, wie sich der Code verändert."
      ],
      "metadata": {
        "id": "cDCLfZPDdgD4"
      }
    },
    {
      "cell_type": "markdown",
      "source": [
        "Laden wir uns zunächst die Library mit den Befehlen, die wir bei der Analyse benötigen. Libraries sind Bibliotheken von Befehlen. Das tidyverse ist eine ganze Sammlung von Paketen, die insbesondere von Hadley Wickham, einem Superstar in der R-Welt, geprägt wurden:"
      ],
      "metadata": {
        "id": "IzxOxIJf1O35"
      }
    },
    {
      "cell_type": "code",
      "source": [
        "library(tidyverse)"
      ],
      "metadata": {
        "id": "qt0Jt6wndcIO"
      },
      "execution_count": null,
      "outputs": []
    },
    {
      "cell_type": "markdown",
      "source": [
        "Nun laden wir uns den Datensatz zur Vorlesungsumfrage, mit dem wir weiter arbeiten wollen. (Der aufbereitete Datensatz wird auf github bereitgestellt. Die Details hierzu müssen uns erst einmal nicht weiter kümmern)."
      ],
      "metadata": {
        "id": "vUn4nP8m15sO"
      }
    },
    {
      "cell_type": "code",
      "source": [
        "# Datensatz herunterladen -------------------------------------------------------------\n",
        "download.file(\"https://github.com/cstecker/politicsRLab/blob/main/data/survey2023-04_colab.rds?raw=true\", \"survey2023-04_colab.rds\")"
      ],
      "metadata": {
        "id": "R3dYftv9dlPH"
      },
      "execution_count": null,
      "outputs": []
    },
    {
      "cell_type": "code",
      "source": [
        "# Datensatz in die Analyseplattform laden\n",
        "survey <- readRDS(\"survey2023-04_colab.rds\")"
      ],
      "metadata": {
        "id": "UTPK6uS944uq"
      },
      "execution_count": null,
      "outputs": []
    },
    {
      "cell_type": "markdown",
      "source": [
        "Für einen ersten Blick auf die Daten geben wir ein:"
      ],
      "metadata": {
        "id": "y8LX5h1sdl2-"
      }
    },
    {
      "cell_type": "code",
      "source": [
        "glimpse(survey)"
      ],
      "metadata": {
        "id": "-CKFVM6uduJH",
        "colab": {
          "base_uri": "https://localhost:8080/"
        },
        "outputId": "c9c126db-a5bc-4da3-99da-a7ec70f1a7e6"
      },
      "execution_count": null,
      "outputs": [
        {
          "output_type": "stream",
          "name": "stdout",
          "text": [
            "Rows: 70\n",
            "Columns: 26\n",
            "$ geschlecht       \u001b[3m\u001b[90m<fct>\u001b[39m\u001b[23m Weiblich, Männlich, Weiblich, Männlich, Männlich, Män…\n",
            "$ skalo_cdu        \u001b[3m\u001b[90m<fct>\u001b[39m\u001b[23m -2, -5, 0, -4, 1, 4, -5, -5, -4, -4, -1, -2, 1, -5, 2…\n",
            "$ skalo_spd        \u001b[3m\u001b[90m<fct>\u001b[39m\u001b[23m 2, -1, 0, -3, -5, 4, -2, -3, -1, 3, 0, 0, 3, -3, 4, 1…\n",
            "$ skalo_pds        \u001b[3m\u001b[90m<fct>\u001b[39m\u001b[23m 3, 3, 0, 1, -5, 1, 4, 3, 3, -4, -4, 0, -2, -1, -2, 1,…\n",
            "$ skalo_gru        \u001b[3m\u001b[90m<fct>\u001b[39m\u001b[23m -5, 2, 0, -4, -5, 2, 0, 4, -1, 4, 1, 0, -3, -1, 3, 1,…\n",
            "$ skalo_fdp        \u001b[3m\u001b[90m<fct>\u001b[39m\u001b[23m -3, -5, 0, -3, 1, 4, -5, -2, -3, 2, 0, -1, 0, -5, 2, …\n",
            "$ skalo_afd        \u001b[3m\u001b[90m<fct>\u001b[39m\u001b[23m 2, -5, 0, -5, 5, -4, -5, -5, -5, -5, -5, -5, -4, -5, …\n",
            "$ vote             \u001b[3m\u001b[90m<chr>\u001b[39m\u001b[23m \"SPD\", \"Die Linke\", \"AfD\", \"Ich würde nicht wählen\", …\n",
            "$ vote_text        \u001b[3m\u001b[90m<chr>\u001b[39m\u001b[23m \"\", \"\", \"\", \"\", \"\", \"\", \"\", \"\", \"Linke ohne Sahra &Co…\n",
            "$ lire_self        \u001b[3m\u001b[90m<dbl>\u001b[39m\u001b[23m 5, 3, 6, 2, 11, 5, 1, 3, 2, 3, 6, 3, 5, 1, 6, 5, 2, 6…\n",
            "$ econ_self        \u001b[3m\u001b[90m<dbl>\u001b[39m\u001b[23m 7, 1, 6, 2, 11, 8, 5, 4, 1, 2, 6, 1, 3, 2, 4, 3, 1, 8…\n",
            "$ immi_self        \u001b[3m\u001b[90m<dbl>\u001b[39m\u001b[23m 8, 4, 8, 4, 11, 6, 1, 3, 1, 1, 6, 1, 8, 1, 4, 4, 1, 7…\n",
            "$ klim_self        \u001b[3m\u001b[90m<dbl>\u001b[39m\u001b[23m 8, 1, 8, 3, 11, 3, 1, 1, 3, 2, 5, 1, 5, 1, 4, 3, 1, 7…\n",
            "$ euin_self        \u001b[3m\u001b[90m<dbl>\u001b[39m\u001b[23m 6, 3, 6, 7, 11, 5, 6, 2, 4, 1, 8, 3, 9, 3, 4, 7, 1, 5…\n",
            "$ dem_brd          \u001b[3m\u001b[90m<fct>\u001b[39m\u001b[23m 9, 8, 8, 7, 6, 9, 8, 8, 6, 9, 9, 8, 7, 7, 8, 5, 10, 7…\n",
            "$ dem_usa          \u001b[3m\u001b[90m<fct>\u001b[39m\u001b[23m 4, 5, 8, 4, 7, 7, 3, 6, 4, 8, 7, 7, 5, 4, 6, 3, 4, 5,…\n",
            "$ dem_hun          \u001b[3m\u001b[90m<fct>\u001b[39m\u001b[23m 2, 5, 8, 6, 6, 2, 1, 5, 3, 2, 4, 6, 3, 2, 3, 6, 2, 2,…\n",
            "$ dem_pol          \u001b[3m\u001b[90m<fct>\u001b[39m\u001b[23m 1, 5, 8, 6, 6, 2, 1, 3, 3, 4, 6, 6, 3, 5, 4, 2, 2, 4,…\n",
            "$ dem_rus          \u001b[3m\u001b[90m<fct>\u001b[39m\u001b[23m 1, 3, 3, 1, 2, 0, 0, 0, 2, 0, 0, 4, 0, 0, 1, 0, 0, 1,…\n",
            "$ dem_eigen        \u001b[3m\u001b[90m<fct>\u001b[39m\u001b[23m NA, NA, NA, NA, NA, NA, NA, NA, NA, NA, NA, NA, NA, N…\n",
            "$ design_introddem \u001b[3m\u001b[90m<fct>\u001b[39m\u001b[23m NA, NA, NA, NA, NA, NA, NA, NA, NA, NA, NA, NA, NA, N…\n",
            "$ design_intromw   \u001b[3m\u001b[90m<fct>\u001b[39m\u001b[23m NA, NA, NA, NA, NA, NA, NA, NA, NA, NA, NA, NA, NA, N…\n",
            "$ design_minreg    \u001b[3m\u001b[90m<fct>\u001b[39m\u001b[23m NA, NA, NA, NA, NA, NA, NA, NA, NA, NA, NA, NA, NA, N…\n",
            "$ design_direktbk  \u001b[3m\u001b[90m<fct>\u001b[39m\u001b[23m NA, NA, NA, NA, NA, NA, NA, NA, NA, NA, NA, NA, NA, N…\n",
            "$ design_manyparty \u001b[3m\u001b[90m<fct>\u001b[39m\u001b[23m NA, NA, NA, NA, NA, NA, NA, NA, NA, NA, NA, NA, NA, N…\n",
            "$ party            \u001b[3m\u001b[90m<fct>\u001b[39m\u001b[23m spd, pds, afd, Ich würde nicht wählen, afd, fdp, pds,…\n"
          ]
        }
      ]
    },
    {
      "cell_type": "markdown",
      "source": [
        "Wir erhalten nun eine Auflistung aller Variablen mit weiteren Informationen. In der linken Spalte sehen wir die Variablen des Datensatzes. Jeweils rechts daneben steht eine kleine Übersicht über die Antworten der Studierenden. \n",
        "Aus der Excelwelt sind uns rechteckige Datensätze vertraut. Auch so können wir auf die Daten schauen - in den Zeilen sind Fälle (also Kommillitonen), in den Spalten Variablen."
      ],
      "metadata": {
        "id": "BCNouYvLeIH0"
      }
    },
    {
      "cell_type": "code",
      "source": [
        "survey %>% View()"
      ],
      "metadata": {
        "id": "qaDvePlYbD6I"
      },
      "execution_count": null,
      "outputs": []
    },
    {
      "cell_type": "markdown",
      "source": [
        "Schauen wir uns mal ein paar Eigenschaften unserer Kommillitionen an. Wie ist denn die Geschlechterverteilung?"
      ],
      "metadata": {
        "id": "7z0GNxrHbGhg"
      }
    },
    {
      "cell_type": "code",
      "source": [
        "survey %>% count(geschlecht)"
      ],
      "metadata": {
        "id": "ucZwNCBCeJvx",
        "colab": {
          "base_uri": "https://localhost:8080/",
          "height": 192
        },
        "outputId": "5debe575-4328-4512-a049-214208f69927"
      },
      "execution_count": null,
      "outputs": [
        {
          "output_type": "display_data",
          "data": {
            "text/html": [
              "<table class=\"dataframe\">\n",
              "<caption>A tibble: 3 × 2</caption>\n",
              "<thead>\n",
              "\t<tr><th scope=col>geschlecht</th><th scope=col>n</th></tr>\n",
              "\t<tr><th scope=col>&lt;fct&gt;</th><th scope=col>&lt;int&gt;</th></tr>\n",
              "</thead>\n",
              "<tbody>\n",
              "\t<tr><td>Weiblich    </td><td>17</td></tr>\n",
              "\t<tr><td>Männlich    </td><td>52</td></tr>\n",
              "\t<tr><td>Keine Angabe</td><td> 1</td></tr>\n",
              "</tbody>\n",
              "</table>\n"
            ],
            "text/markdown": "\nA tibble: 3 × 2\n\n| geschlecht &lt;fct&gt; | n &lt;int&gt; |\n|---|---|\n| Weiblich     | 17 |\n| Männlich     | 52 |\n| Keine Angabe |  1 |\n\n",
            "text/latex": "A tibble: 3 × 2\n\\begin{tabular}{ll}\n geschlecht & n\\\\\n <fct> & <int>\\\\\n\\hline\n\t Weiblich     & 17\\\\\n\t Männlich     & 52\\\\\n\t Keine Angabe &  1\\\\\n\\end{tabular}\n",
            "text/plain": [
              "  geschlecht   n \n",
              "1 Weiblich     17\n",
              "2 Männlich     52\n",
              "3 Keine Angabe  1"
            ]
          },
          "metadata": {}
        }
      ]
    },
    {
      "cell_type": "markdown",
      "source": [
        "Versuchen Sie *count* mal selbst, z. B. mit der Variable *immi_self*!"
      ],
      "metadata": {
        "id": "u5TU-CEwbzxH"
      }
    },
    {
      "cell_type": "code",
      "source": [
        "# Hier könnte/sollte ihr Code stehen\n"
      ],
      "metadata": {
        "id": "kTIdNVYibyiT"
      },
      "execution_count": null,
      "outputs": []
    },
    {
      "cell_type": "markdown",
      "source": [
        "## **Wie würden die Kursteilnehmer abstimmen, wenn am nächsten Sonntag Bundestagswahl wäre?**\n",
        "\n",
        "Nun sind wir neugierig, welcher Partei unsere Kommillitoninnen und Kommillitonen anhängen. Diese Information ist in der Variable vote hinterlegt:"
      ],
      "metadata": {
        "id": "iagWUVmBefr9"
      }
    },
    {
      "cell_type": "code",
      "source": [
        "survey %>% count(vote)"
      ],
      "metadata": {
        "id": "qxKj63zvellT"
      },
      "execution_count": null,
      "outputs": []
    },
    {
      "cell_type": "markdown",
      "source": [
        "Wie unordentlich bei diesem zersplitterten Parteiensystem. Wir müssen sortieren!"
      ],
      "metadata": {
        "id": "kBsRuzH7dLV1"
      }
    },
    {
      "cell_type": "code",
      "source": [
        "survey %>% count(vote, sort = TRUE)"
      ],
      "metadata": {
        "id": "qDG7LfBUdKsU",
        "outputId": "bcbb968f-63ea-412c-c4cc-2bb4f1b8a377",
        "colab": {
          "base_uri": "https://localhost:8080/",
          "height": 411
        }
      },
      "execution_count": null,
      "outputs": [
        {
          "output_type": "display_data",
          "data": {
            "text/html": [
              "<table class=\"dataframe\">\n",
              "<caption>A tibble: 10 × 2</caption>\n",
              "<thead>\n",
              "\t<tr><th scope=col>vote</th><th scope=col>n</th></tr>\n",
              "\t<tr><th scope=col>&lt;chr&gt;</th><th scope=col>&lt;int&gt;</th></tr>\n",
              "</thead>\n",
              "<tbody>\n",
              "\t<tr><td>Bündnis90 / Die Grünen</td><td>26</td></tr>\n",
              "\t<tr><td>SPD                   </td><td>14</td></tr>\n",
              "\t<tr><td>Die Linke             </td><td> 9</td></tr>\n",
              "\t<tr><td>FDP                   </td><td> 6</td></tr>\n",
              "\t<tr><td>AfD                   </td><td> 5</td></tr>\n",
              "\t<tr><td>CDU                   </td><td> 3</td></tr>\n",
              "\t<tr><td>Ich würde nicht wählen</td><td> 2</td></tr>\n",
              "\t<tr><td>Sonstiges:            </td><td> 2</td></tr>\n",
              "\t<tr><td>Volt                  </td><td> 2</td></tr>\n",
              "\t<tr><td>Tierschutzpartei      </td><td> 1</td></tr>\n",
              "</tbody>\n",
              "</table>\n"
            ],
            "text/markdown": "\nA tibble: 10 × 2\n\n| vote &lt;chr&gt; | n &lt;int&gt; |\n|---|---|\n| Bündnis90 / Die Grünen | 26 |\n| SPD                    | 14 |\n| Die Linke              |  9 |\n| FDP                    |  6 |\n| AfD                    |  5 |\n| CDU                    |  3 |\n| Ich würde nicht wählen |  2 |\n| Sonstiges:             |  2 |\n| Volt                   |  2 |\n| Tierschutzpartei       |  1 |\n\n",
            "text/latex": "A tibble: 10 × 2\n\\begin{tabular}{ll}\n vote & n\\\\\n <chr> & <int>\\\\\n\\hline\n\t Bündnis90 / Die Grünen & 26\\\\\n\t SPD                    & 14\\\\\n\t Die Linke              &  9\\\\\n\t FDP                    &  6\\\\\n\t AfD                    &  5\\\\\n\t CDU                    &  3\\\\\n\t Ich würde nicht wählen &  2\\\\\n\t Sonstiges:             &  2\\\\\n\t Volt                   &  2\\\\\n\t Tierschutzpartei       &  1\\\\\n\\end{tabular}\n",
            "text/plain": [
              "   vote                   n \n",
              "1  Bündnis90 / Die Grünen 26\n",
              "2  SPD                    14\n",
              "3  Die Linke               9\n",
              "4  FDP                     6\n",
              "5  AfD                     5\n",
              "6  CDU                     3\n",
              "7  Ich würde nicht wählen  2\n",
              "8  Sonstiges:              2\n",
              "9  Volt                    2\n",
              "10 Tierschutzpartei        1"
            ]
          },
          "metadata": {}
        }
      ]
    },
    {
      "cell_type": "markdown",
      "source": [
        "Und jetzt noch Prozente. Die Prozente berechnen wir mit *mutate* – dies ist das *tidyverse*-Verb zum Generieren neuer Variablen. Erst berechnen wir *totalvote*. Dies ist die Gesamtzahl aller Stimmen. Mit einem Komma abgetrennt, haben wir eine weitere Variable, *share* erstellt, die uns die Prozente ausgibt. Und wir haben gleich noch gelernt, dass man Kommentare mit einem anführenden # in den Code schreiben kann. Kommentieren Sie am besten immer ausführlicher als Sie es im Moment für notwendig erachten. Dann schauen Sie in vierzehn Tagen weniger ratlos auf den Code, den Sie vor vierzehn Tagen selbst flüssig heruntergeschrieben haben. \n",
        "\n",
        "Wenn Sie dies vertiefen wollen, lesen Sie sich dazu am besten auch das Kapitel in [R for DataScience](https://r4ds.had.co.nz/) durch. Da wir R als Programmiersprache in Colab nutzen, lässt sich alles von dort auch hier anwenden!"
      ],
      "metadata": {
        "id": "NKeAcWEteQVD"
      }
    },
    {
      "cell_type": "code",
      "source": [
        "survey %>% \n",
        "  count(vote) %>% \n",
        "  # Berechnen der Prozentanteile mit mutate, die neuen Variablen nennen wir dann totalvotes und share\n",
        "  mutate(totalvotes = sum(n),\n",
        "         share = n/totalvotes*100)"
      ],
      "metadata": {
        "colab": {
          "base_uri": "https://localhost:8080/",
          "height": 411
        },
        "id": "3CmkNyUkfCK2",
        "outputId": "35136dd4-d8ef-4175-a142-42465a2c4f5d"
      },
      "execution_count": null,
      "outputs": [
        {
          "output_type": "display_data",
          "data": {
            "text/html": [
              "<table class=\"dataframe\">\n",
              "<caption>A tibble: 10 × 4</caption>\n",
              "<thead>\n",
              "\t<tr><th scope=col>vote</th><th scope=col>n</th><th scope=col>totalvotes</th><th scope=col>share</th></tr>\n",
              "\t<tr><th scope=col>&lt;chr&gt;</th><th scope=col>&lt;int&gt;</th><th scope=col>&lt;int&gt;</th><th scope=col>&lt;dbl&gt;</th></tr>\n",
              "</thead>\n",
              "<tbody>\n",
              "\t<tr><td>AfD                   </td><td> 5</td><td>70</td><td> 7.142857</td></tr>\n",
              "\t<tr><td>Bündnis90 / Die Grünen</td><td>26</td><td>70</td><td>37.142857</td></tr>\n",
              "\t<tr><td>CDU                   </td><td> 3</td><td>70</td><td> 4.285714</td></tr>\n",
              "\t<tr><td>Die Linke             </td><td> 9</td><td>70</td><td>12.857143</td></tr>\n",
              "\t<tr><td>FDP                   </td><td> 6</td><td>70</td><td> 8.571429</td></tr>\n",
              "\t<tr><td>Ich würde nicht wählen</td><td> 2</td><td>70</td><td> 2.857143</td></tr>\n",
              "\t<tr><td>SPD                   </td><td>14</td><td>70</td><td>20.000000</td></tr>\n",
              "\t<tr><td>Sonstiges:            </td><td> 2</td><td>70</td><td> 2.857143</td></tr>\n",
              "\t<tr><td>Tierschutzpartei      </td><td> 1</td><td>70</td><td> 1.428571</td></tr>\n",
              "\t<tr><td>Volt                  </td><td> 2</td><td>70</td><td> 2.857143</td></tr>\n",
              "</tbody>\n",
              "</table>\n"
            ],
            "text/markdown": "\nA tibble: 10 × 4\n\n| vote &lt;chr&gt; | n &lt;int&gt; | totalvotes &lt;int&gt; | share &lt;dbl&gt; |\n|---|---|---|---|\n| AfD                    |  5 | 70 |  7.142857 |\n| Bündnis90 / Die Grünen | 26 | 70 | 37.142857 |\n| CDU                    |  3 | 70 |  4.285714 |\n| Die Linke              |  9 | 70 | 12.857143 |\n| FDP                    |  6 | 70 |  8.571429 |\n| Ich würde nicht wählen |  2 | 70 |  2.857143 |\n| SPD                    | 14 | 70 | 20.000000 |\n| Sonstiges:             |  2 | 70 |  2.857143 |\n| Tierschutzpartei       |  1 | 70 |  1.428571 |\n| Volt                   |  2 | 70 |  2.857143 |\n\n",
            "text/latex": "A tibble: 10 × 4\n\\begin{tabular}{llll}\n vote & n & totalvotes & share\\\\\n <chr> & <int> & <int> & <dbl>\\\\\n\\hline\n\t AfD                    &  5 & 70 &  7.142857\\\\\n\t Bündnis90 / Die Grünen & 26 & 70 & 37.142857\\\\\n\t CDU                    &  3 & 70 &  4.285714\\\\\n\t Die Linke              &  9 & 70 & 12.857143\\\\\n\t FDP                    &  6 & 70 &  8.571429\\\\\n\t Ich würde nicht wählen &  2 & 70 &  2.857143\\\\\n\t SPD                    & 14 & 70 & 20.000000\\\\\n\t Sonstiges:             &  2 & 70 &  2.857143\\\\\n\t Tierschutzpartei       &  1 & 70 &  1.428571\\\\\n\t Volt                   &  2 & 70 &  2.857143\\\\\n\\end{tabular}\n",
            "text/plain": [
              "   vote                   n  totalvotes share    \n",
              "1  AfD                     5 70          7.142857\n",
              "2  Bündnis90 / Die Grünen 26 70         37.142857\n",
              "3  CDU                     3 70          4.285714\n",
              "4  Die Linke               9 70         12.857143\n",
              "5  FDP                     6 70          8.571429\n",
              "6  Ich würde nicht wählen  2 70          2.857143\n",
              "7  SPD                    14 70         20.000000\n",
              "8  Sonstiges:              2 70          2.857143\n",
              "9  Tierschutzpartei        1 70          1.428571\n",
              "10 Volt                    2 70          2.857143"
            ]
          },
          "metadata": {}
        }
      ]
    },
    {
      "cell_type": "markdown",
      "source": [
        "Und jetzt noch ein Balkendiagramm. Mit dem Balkendiagramm lernen wir ggplot2, das Visualisierungspaket im *tidyverse* kennen. Mit “ggplot” wird der Grafikbefehl gestartet. Ab da weiß R bzw. Colab, dass nun ggplot-Befehle kommen. Danach werden weitere ggplot-Befehle mit “+” verknüpft (Achtung: hier nicht “%>%” benutzen). Danach sagen wir Colab, welche Art des Graphs, das Geom, gezeichnet werden soll. Mit *geom_col* sagen wir Colab, dass die Daten als Balken (Columns) dargestellt werden sollen und konkretisieren in *(aes(x = vote, y = share))*, dass auf der x-Achse die unterschiedlichen Parteien und auf der y-Achse die Prozente bei der Sonntagsfrage abgebildet werden. Der letzte Abschnitt, *scale_x_discrete*, ist vorerst nicht wichtig zu verstehen, dient hier aber um die Namen der Parteien auf der x-Achse zu drehen, damit man sie besser zu lesen sind."
      ],
      "metadata": {
        "id": "SS-aNEU9fN4k"
      }
    },
    {
      "cell_type": "code",
      "source": [
        "survey %>% \n",
        "  count(vote) %>% \n",
        "  # Berechnen der Prozentanteile mit mutate, die neuen Variablen nennen wir dann totalvotes und share\n",
        "  mutate(totalvotes = sum(n),\n",
        "         share = n/totalvotes*100) %>% \n",
        "  ggplot() +\n",
        "  geom_col(aes(x = vote, y = share)) + \n",
        "  scale_x_discrete(guide = guide_axis(angle = 45)) "
      ],
      "metadata": {
        "colab": {
          "base_uri": "https://localhost:8080/",
          "height": 437
        },
        "id": "jLM82CeKfRys",
        "outputId": "d3bca2c5-2243-4eec-a290-120eb818fa40"
      },
      "execution_count": null,
      "outputs": [
        {
          "output_type": "display_data",
          "data": {
            "text/plain": [
              "plot without title"
            ],
            "image/png": "[encoded data removed]"
          },
          "metadata": {
            "image/png": {
              "width": 420,
              "height": 420
            }
          }
        }
      ]
    },
    {
      "cell_type": "markdown",
      "source": [
        "Oha, es scheint, als wären wir in einer links-grünen Blase gelandet. Ein Blick auf [aktuelle Umfragen](https://wahlrecht.de) legt nahe, dass der durchschnittliche Bundesbürger politisch etwas anders tickt als Sie und Ihre Kommillitoninnen und Kommillitonen.\n",
        "\n",
        "Aber auch, wenn Sie zu den wenigen Konservativen im Kurs gehören, brauchen Sie sich keine Sorgen zu machen. Zum Glück respektieren sicher gerade an der Universität alle den fundamentalen Wert der Meinungsfreiheit und werden auch abweichenden Argumenten und Werthaltungen gegenüber respektvoll und aufgeschlossen sein. Sie brauchen auch nicht aus Höflichkeit über die politisch korrekten linksgrünen Scherze des Dozenten lachen. Er hat halt Marktforschung betrieben (Kursumfrage!) und will sich bei der Mehrheit anbiedern.\n",
        "\n",
        "Wie sieht es denn unter den männlichen Studierenden aus?"
      ],
      "metadata": {
        "id": "_osm4b92enhv"
      }
    },
    {
      "cell_type": "code",
      "source": [
        "survey %>% \n",
        "  # wir filtern den Datensatz nach Männer\n",
        "  filter(geschlecht == \"Männlich\") %>% \n",
        "  count(vote, sort = TRUE) "
      ],
      "metadata": {
        "id": "dPFsMHose3XQ",
        "colab": {
          "base_uri": "https://localhost:8080/",
          "height": 411
        },
        "outputId": "080e0a51-a197-4abc-c924-259b95f13236"
      },
      "execution_count": null,
      "outputs": [
        {
          "output_type": "display_data",
          "data": {
            "text/html": [
              "<table class=\"dataframe\">\n",
              "<caption>A tibble: 10 × 2</caption>\n",
              "<thead>\n",
              "\t<tr><th scope=col>vote</th><th scope=col>n</th></tr>\n",
              "\t<tr><th scope=col>&lt;chr&gt;</th><th scope=col>&lt;int&gt;</th></tr>\n",
              "</thead>\n",
              "<tbody>\n",
              "\t<tr><td>Bündnis90 / Die Grünen</td><td>18</td></tr>\n",
              "\t<tr><td>SPD                   </td><td>10</td></tr>\n",
              "\t<tr><td>Die Linke             </td><td> 7</td></tr>\n",
              "\t<tr><td>AfD                   </td><td> 4</td></tr>\n",
              "\t<tr><td>CDU                   </td><td> 3</td></tr>\n",
              "\t<tr><td>FDP                   </td><td> 3</td></tr>\n",
              "\t<tr><td>Ich würde nicht wählen</td><td> 2</td></tr>\n",
              "\t<tr><td>Sonstiges:            </td><td> 2</td></tr>\n",
              "\t<tr><td>Volt                  </td><td> 2</td></tr>\n",
              "\t<tr><td>Tierschutzpartei      </td><td> 1</td></tr>\n",
              "</tbody>\n",
              "</table>\n"
            ],
            "text/markdown": "\nA tibble: 10 × 2\n\n| vote &lt;chr&gt; | n &lt;int&gt; |\n|---|---|\n| Bündnis90 / Die Grünen | 18 |\n| SPD                    | 10 |\n| Die Linke              |  7 |\n| AfD                    |  4 |\n| CDU                    |  3 |\n| FDP                    |  3 |\n| Ich würde nicht wählen |  2 |\n| Sonstiges:             |  2 |\n| Volt                   |  2 |\n| Tierschutzpartei       |  1 |\n\n",
            "text/latex": "A tibble: 10 × 2\n\\begin{tabular}{ll}\n vote & n\\\\\n <chr> & <int>\\\\\n\\hline\n\t Bündnis90 / Die Grünen & 18\\\\\n\t SPD                    & 10\\\\\n\t Die Linke              &  7\\\\\n\t AfD                    &  4\\\\\n\t CDU                    &  3\\\\\n\t FDP                    &  3\\\\\n\t Ich würde nicht wählen &  2\\\\\n\t Sonstiges:             &  2\\\\\n\t Volt                   &  2\\\\\n\t Tierschutzpartei       &  1\\\\\n\\end{tabular}\n",
            "text/plain": [
              "   vote                   n \n",
              "1  Bündnis90 / Die Grünen 18\n",
              "2  SPD                    10\n",
              "3  Die Linke               7\n",
              "4  AfD                     4\n",
              "5  CDU                     3\n",
              "6  FDP                     3\n",
              "7  Ich würde nicht wählen  2\n",
              "8  Sonstiges:              2\n",
              "9  Volt                    2\n",
              "10 Tierschutzpartei        1"
            ]
          },
          "metadata": {}
        }
      ]
    },
    {
      "cell_type": "markdown",
      "source": [
        "Die letzten Befehle bestanden aus mehreren Zeilen, die durch “%>%” verbunden sind. Dies ist eine sogenannte pipe, die Befehle verknüpft. Die pipe nimmt jeweils den Output der vorhergehenden Zeile als Input der nachfolgenden Zeile, hier: Nimm Dir den survey-Datensatz, dann filtere weibliche Studierende heraus, dann zähle ihre Parteipräferenzen. \n",
        "Wir werden die pipe nun immer nutzen, da man damit komplexe Befehlsketten sehr übersichtlich strukturieren kann."
      ],
      "metadata": {
        "id": "NReSYMtSe5_H"
      }
    },
    {
      "cell_type": "markdown",
      "source": [
        "## **The Gender Gap in Voting: Evidence from the University of Darmstadt.**\n",
        "\n",
        "Jetzt lernen wir noch ein weiteres ggplot-geom kennen und nutzen dies gleich für eine Forschungsfrage.\n",
        "Als SozialwissenschaftlerInnen sind wir ständig auf der Suche nach Mustern und Erklärungen der politischen und sozialen Realität. Unser Datensatz erlaubt es uns, dass wir die Studierenden nach Geschlecht getrennt betrachten können, um eine Politikwissenschaftliche Theorie zu untersuchen. Der *Gender Gap in Voting* ist eine langanhaltende Diskussion in der Forschung, die Unterschiede im Wahlverhalten zwischen den Geschlechten untersucht. Viele Studien konnten dabei beobachten, dass weibliche Wählerinnen eher liberal und weniger konservativ wählen als männliche Personen. Ihr Wahlverhalten haben wir uns bereits angesehen, aber wir können auch schauen, ob die Frauen linker sind als die Männer. In der Umfrage wurden Sie gebeten, sich auf einer allgemeinen “Links-Rechts-Achse” selbst einzuordnen. Diese Information ist in der Variablen lire_self hinterlegt. Die Verteilung der Variablen bilden wir nun mit einem density-plot ab und lassen uns die Werte für die Geschlechter getrennt darstellen. Wenn die Theorie wahr wäre, sollten wir beobachten, dass die Männer unter ihnen eher rechte Werte auf der Skala wählen als weibliche Studierende.\n",
        "\n",
        "Um die Geschlechter zu vergleichen, erstellen wir eine Variable in der Studierenden der Wert *Male* zugeordnet wird, wenn sie männlich sind und der Wert *Female* wenn nicht. Dafür eignet sich der *ifelse* Befehl, wie der Name schon vermuten lässt."
      ],
      "metadata": {
        "id": "4pUrKi_Nfk8X"
      }
    },
    {
      "cell_type": "code",
      "source": [
        "survey %>%\n",
        "  # Hier filtern wir Personen raus, die keine Angabe zum Geschlecht gemacht haben\n",
        "  filter(geschlecht == \"Weiblich\" | geschlecht == \"Männlich\") %>% \n",
        "  # ggplot soll uns die Links-Rechts-Achse auf x projizieren und für\n",
        "  # geschlecht unterschiedliche Farben und Füllung verwenden\n",
        "  ggplot(aes(x = lire_self, color = geschlecht, fill = geschlecht)) +\n",
        "  geom_density(alpha = 0.2, adjust = 1.5) +\n",
        "  labs(title = \"Sind männliche Studierende 'rechter'?\", \n",
        "       x = \"Links-Rechts-Selbsteinschätzung\") "
      ],
      "metadata": {
        "id": "XndxlB-KfwI2"
      },
      "execution_count": null,
      "outputs": []
    },
    {
      "cell_type": "markdown",
      "source": [
        "Studierende verhalten sich eben nicht hypothesenkonform, wenn man es mal bräuchte... Die beiden Verteilungen unterscheiden sich nicht nennenswert.\n",
        "\n",
        "Sie wissen jetzt übrigens auch, dass man mit *labs()* eine Abbildung und ihre Achsen beschriften kann.\n",
        "\n",
        "Eine umfangreichere Auswertung der Umfrage finden Sie auf moodle.\n",
        "\n",
        "Die Grafiken sind etwas schicker (haben aber auch deutlich mehr Zeit gekostet). Im Laufe des Kurses werden wir die Schönheit und Aussagekraft der Grafiken auch stetig verbessern."
      ],
      "metadata": {
        "id": "lc72rNzcfxUG"
      }
    },
    {
      "cell_type": "markdown",
      "source": [
        "## **Was sind Ihre eigenen Überlegungen?**\n",
        "\n",
        "Schreiben Sie doch mal ein bisschen Code!"
      ],
      "metadata": {
        "id": "bfjku8nagMGn"
      }
    },
    {
      "cell_type": "code",
      "source": [
        "# Hier könnte ihr Code stehen!"
      ],
      "metadata": {
        "id": "K7qXz_9DieEm"
      },
      "execution_count": null,
      "outputs": []
    }
  ]
}