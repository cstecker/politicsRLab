{
  "nbformat": 4,
  "nbformat_minor": 0,
  "metadata": {
    "colab": {
      "provenance": [],
      "include_colab_link": true
    },
    "kernelspec": {
      "name": "ir",
      "display_name": "R"
    },
    "language_info": {
      "name": "R"
    }
  },
  "cells": [
    {
      "cell_type": "markdown",
      "metadata": {
        "id": "view-in-github",
        "colab_type": "text"
      },
      "source": [
        "<a href=\"https://colab.research.google.com/github/cstecker/politicsRLab/blob/main/sozial%20verzerrte%20Wahlbeteiligung%20(OB-Wahl%20FFM).ipynb\" target=\"_parent\"><img src=\"https://colab.research.google.com/assets/colab-badge.svg\" alt=\"Open In Colab\"/></a>"
      ]
    },
    {
      "cell_type": "code",
      "source": [],
      "metadata": {
        "id": "8OREHF9wHBET"
      },
      "execution_count": null,
      "outputs": []
    },
    {
      "cell_type": "markdown",
      "source": [
        "# **Sozial ungleiche Wahlbeteiligung**"
      ],
      "metadata": {
        "id": "HYVMYChAR_IV"
      }
    },
    {
      "cell_type": "markdown",
      "source": [
        "**Alle Befehle bzw. Code-Schnipsel können Sie mit *Strg+Enter* oder durch das klicken des Play-Buttons passagenweise ausführen.** Darunter sehen Sie dann jeweils welches Ergebnis die jeweiligen Zeilen produzieren.\n",
        "Sie können die Zeilen auch verändern und schauen, wie sich der Code verändert."
      ],
      "metadata": {
        "id": "cDCLfZPDdgD4"
      }
    },
    {
      "cell_type": "markdown",
      "source": [
        "Laden wir uns zunächst die Library mit den Befehlen, die wir bei der Analyse benötigen. Libraries sind Bibliotheken von Befehlen. Das tidyverse ist eine ganze Sammlung von Paketen, die insbesondere von Hadley Wickham, einem Superstar in der R-Welt, geprägt wurden:"
      ],
      "metadata": {
        "id": "IzxOxIJf1O35"
      }
    },
    {
      "cell_type": "code",
      "source": [
        "library(tidyverse)"
      ],
      "metadata": {
        "id": "qt0Jt6wndcIO"
      },
      "execution_count": null,
      "outputs": []
    },
    {
      "cell_type": "markdown",
      "source": [
        "Nun laden wir die Datensätze. (Die aufbereiteten Datensätze werden auf github bereitgestellt. Die Details hierzu müssen uns erst einmal nicht weiter kümmern)."
      ],
      "metadata": {
        "id": "vUn4nP8m15sO"
      }
    },
    {
      "cell_type": "code",
      "source": [
        "# Datensätze herunterladen -------------------------------------------------------------\n",
        "download.file(\"https://github.com/cstecker/politicsRLab/blob/main/data/ffm_ob_wbz_results.Rda?raw=true\", \"ffm_ob_wbz_results.Rda\")\n",
        "download.file(\"https://github.com/cstecker/politicsRLab/blob/main/data/ffm_stadtteil_2023.Rda?raw=true\", \"ffm_stadtteil_2023.Rda\")\n",
        "download.file(\"https://github.com/cstecker/politicsRLab/blob/main/data/ffm_wbz_stadtteile.Rda?raw=true\", \"ffm_wbz_stadtteile.Rda\")"
      ],
      "metadata": {
        "id": "R3dYftv9dlPH"
      },
      "execution_count": 8,
      "outputs": []
    },
    {
      "cell_type": "code",
      "source": [
        "list.files()"
      ],
      "metadata": {
        "id": "jfY-l5OwH0Ck"
      },
      "execution_count": null,
      "outputs": []
    },
    {
      "cell_type": "code",
      "source": [
        "# Datensätze laden\n",
        "load(\"ffm_ob_wbz_results.Rda\")\n",
        "load(\"ffm_stadtteil_2023.Rda\")\n",
        "load(\"ffm_wbz_stadtteile.Rda\")"
      ],
      "metadata": {
        "id": "NivXnkYWH9QV"
      },
      "execution_count": 7,
      "outputs": []
    },
    {
      "cell_type": "code",
      "source": [
        "# Betrachten der Daten\n",
        "ffm_ob_wbz_results"
      ],
      "metadata": {
        "id": "UTPK6uS944uq"
      },
      "execution_count": null,
      "outputs": []
    },
    {
      "cell_type": "code",
      "source": [
        "# Betrachten der Daten\n",
        "wbz_stadtteile"
      ],
      "metadata": {
        "id": "x5mZe58bI2CN"
      },
      "execution_count": null,
      "outputs": []
    },
    {
      "cell_type": "code",
      "source": [
        "# Betrachten der Daten\n",
        "ffm_socstrk"
      ],
      "metadata": {
        "id": "ElZzkhSbI8Yb"
      },
      "execution_count": null,
      "outputs": []
    },
    {
      "cell_type": "markdown",
      "source": [
        "## soziale Ungleichheit in Frankfurt"
      ],
      "metadata": {
        "id": "xZj2xj_QJBaM"
      }
    },
    {
      "cell_type": "code",
      "source": [
        "# Wohnflaeche\n",
        "ffm_socstrk %>%\n",
        "  ggplot(aes(x = wohnflaech, y = stadtteil)) +\n",
        "  geom_col() "
      ],
      "metadata": {
        "id": "3rJ78gOuJAti"
      },
      "execution_count": null,
      "outputs": []
    },
    {
      "cell_type": "code",
      "source": [
        "# Wählen Sie einen eigenen Indikator\n",
        "ffm_socstrk %>%\n",
        "  ggplot(aes(x = ..., y = stadtteil)) +\n",
        "  geom_col() "
      ],
      "metadata": {
        "id": "54j2TUQrJvEj"
      },
      "execution_count": null,
      "outputs": []
    },
    {
      "cell_type": "code",
      "source": [
        "# alles auf einen Blick\n",
        "ffm_socstrk %>%\n",
        "  pivot_longer(-stadtteil) "
      ],
      "metadata": {
        "id": "GlU6QlANJ3av"
      },
      "execution_count": null,
      "outputs": []
    },
    {
      "cell_type": "markdown",
      "source": [
        "# Sozial ungleiches Wahlverhalten"
      ],
      "metadata": {
        "id": "sYNINEcFK7AO"
      }
    },
    {
      "cell_type": "code",
      "source": [
        "ffm_ob_wbz_results %>% \n",
        "  filter(date == \"2023-03-05\", wbz_art == \"Präsenzwahl\") %>% \n",
        "  left_join(wbz_stadtteile) %>% \n",
        "  select(date, stadtteil, wbz_nr, everything()) %>% \n",
        "  group_by(stadtteil) %>% \n",
        "  summarise(across(c(gueltig, sperrW , wahlberechtigt), sum)) %>% \n",
        "  mutate(turnout = (gueltig+sperrW)/wahlberechtigt*100) %>% \n",
        "  left_join(select(ffm_socstrk, -mean_age)) %>% \n",
        "  drop_na(stadtteil) %>%\n",
        "  View()"
      ],
      "metadata": {
        "id": "Ji-vOdbcL746"
      },
      "execution_count": null,
      "outputs": []
    },
    {
      "cell_type": "code",
      "source": [
        "ffm_ob_wbz_results %>% \n",
        "  filter(date == \"2023-03-05\", wbz_art == \"Präsenzwahl\") %>% \n",
        "  left_join(wbz_stadtteile) %>% \n",
        "  select(date, stadtteil, wbz_nr, everything()) %>% \n",
        "  group_by(stadtteil) %>% \n",
        "  summarise(across(c(gueltig, sperrW , wahlberechtigt), sum)) %>% \n",
        "  mutate(turnout = (gueltig+sperrW)/wahlberechtigt*100) %>% \n",
        "  left_join(select(ffm_socstrk, -mean_age)) %>% \n",
        "  drop_na(stadtteil) %>%\n",
        "  ggplot(aes(x = wohnflaech, y = turnout)) +\n",
        "  geom_point()"
      ],
      "metadata": {
        "id": "NGP3YfBrLWxC"
      },
      "execution_count": null,
      "outputs": []
    },
    {
      "cell_type": "code",
      "source": [
        "# alles auf einen Blick\n",
        "ffm_ob_wbz_results %>% \n",
        "  filter(date == \"2023-03-05\", wbz_art == \"Präsenzwahl\") %>% \n",
        "  left_join(wbz_stadtteile) %>% \n",
        "  select(date, stadtteil, wbz_nr, everything()) %>% \n",
        "  group_by(stadtteil) %>% \n",
        "  summarise(across(c(gueltig, sperrW , wahlberechtigt), sum)) %>% \n",
        "  mutate(turnout = (gueltig+sperrW)/wahlberechtigt*100) %>% \n",
        "  left_join(select(ffm_socstrk, -mean_age)) %>% \n",
        "  drop_na(stadtteil) %>%\n",
        "  pivot_longer(c(auslaender:median_brutto)) %>% \n",
        "  mutate(value = replace(value, value == 0, NA)) %>% \n",
        "  mutate(name = factor(name, levels = c(\"median_brutto\", \"auslaender\", \"migrant\", \"wohnflaech\", \"gymn\", \"arbeitslose\"))) %>% \n",
        "  ggplot(aes(x = value, y =  turnout)) +\n",
        "  geom_ribbon(stat='smooth', method = \"lm\", se=TRUE, alpha=0.1, fill = \"grey60\",\n",
        "              aes(color = NULL)) +\n",
        "  geom_line(stat=\"smooth\", method = \"lm\",\n",
        "            size = .5,\n",
        "            linetype =\"dashed\",\n",
        "            alpha = 0.5,\n",
        "            color = \"grey25\") +\n",
        "  geom_point(color = \"#D95F02\", alpha = .7) +\n",
        "  facet_wrap(vars(name), scales = \"free\",\n",
        "             labeller = \n",
        "               labeller(name = \n",
        "                          c(\"median_brutto\" = \"Medianeinkommen\",\n",
        "                            \"arbeitslose\" = \"Arbeitslosendichte\" , \n",
        "                            \"auslaender\" = \"Ausländeranteil\", \n",
        "                            \"gymn\" = \"Übergänge zum Gymnasium\", \n",
        "                            \"migrant\" = \"Anteil Migrationshintergrund\",\n",
        "                            \"wohnflaech\" = \"Wohnfläche pro Kopf\"))) +\n",
        "  labs(x = \"\", y = \"Wahlbeteiligung (%)\") +\n",
        "  theme_minimal() +\n",
        "  theme(\n",
        "    axis.text.x = element_text(size = 8)\n",
        "  )\n",
        "  "
      ],
      "metadata": {
        "id": "K7qXz_9DieEm"
      },
      "execution_count": null,
      "outputs": []
    },
    {
      "cell_type": "markdown",
      "source": [
        "# Regressionsanalyse"
      ],
      "metadata": {
        "id": "9GdHLF1-MT9B"
      }
    },
    {
      "cell_type": "code",
      "source": [
        "# Vorbereiten der Daten\n",
        "reg_data <- ffm_ob_wbz_results %>% \n",
        "  filter(date == \"2023-03-05\", wbz_art == \"Präsenzwahl\") %>% \n",
        "  left_join(wbz_stadtteile) %>% \n",
        "  select(date, stadtteil, wbz_nr, everything()) %>% \n",
        "  group_by(stadtteil) %>% \n",
        "  summarise(across(c(gueltig, sperrW , wahlberechtigt), sum)) %>% \n",
        "  mutate(turnout = (gueltig+sperrW)/wahlberechtigt*100) %>% \n",
        "  left_join(select(ffm_socstrk, -mean_age)) %>% \n",
        "  drop_na(stadtteil) \n",
        "reg_data"
      ],
      "metadata": {
        "id": "GduXzKy9MVvr"
      },
      "execution_count": null,
      "outputs": []
    },
    {
      "cell_type": "code",
      "source": [
        "# Regression\n",
        "model1 <- lm(turnout ~ median_brutto, data = reg_data)\n",
        "model1"
      ],
      "metadata": {
        "colab": {
          "base_uri": "https://localhost:8080/",
          "height": 141
        },
        "id": "2S-LFB8tMGua",
        "outputId": "ad1f3248-5819-46ef-c774-79fc8e949b98"
      },
      "execution_count": 43,
      "outputs": [
        {
          "output_type": "display_data",
          "data": {
            "text/plain": [
              "\n",
              "Call:\n",
              "lm(formula = turnout ~ median_brutto, data = reg_data)\n",
              "\n",
              "Coefficients:\n",
              "  (Intercept)  median_brutto  \n",
              "     5.444103       0.009054  \n"
            ]
          },
          "metadata": {}
        }
      ]
    },
    {
      "cell_type": "code",
      "source": [
        "library(broom)"
      ],
      "metadata": {
        "id": "4-bhf6ZsMg6I"
      },
      "execution_count": 42,
      "outputs": []
    },
    {
      "cell_type": "code",
      "source": [
        "tidy(model1)"
      ],
      "metadata": {
        "colab": {
          "base_uri": "https://localhost:8080/",
          "height": 160
        },
        "id": "7QVBOWZNMjHY",
        "outputId": "5a84ec7f-15c2-4db3-ab94-96fd8711dfa2"
      },
      "execution_count": 45,
      "outputs": [
        {
          "output_type": "display_data",
          "data": {
            "text/html": [
              "<table class=\"dataframe\">\n",
              "<caption>A tibble: 2 × 5</caption>\n",
              "<thead>\n",
              "\t<tr><th scope=col>term</th><th scope=col>estimate</th><th scope=col>std.error</th><th scope=col>statistic</th><th scope=col>p.value</th></tr>\n",
              "\t<tr><th scope=col>&lt;chr&gt;</th><th scope=col>&lt;dbl&gt;</th><th scope=col>&lt;dbl&gt;</th><th scope=col>&lt;dbl&gt;</th><th scope=col>&lt;dbl&gt;</th></tr>\n",
              "</thead>\n",
              "<tbody>\n",
              "\t<tr><td>(Intercept)  </td><td>5.444102640</td><td>5.460082132</td><td>0.9970734</td><td>3.244389e-01</td></tr>\n",
              "\t<tr><td>median_brutto</td><td>0.009053752</td><td>0.001323456</td><td>6.8409903</td><td>2.454717e-08</td></tr>\n",
              "</tbody>\n",
              "</table>\n"
            ],
            "text/markdown": "\nA tibble: 2 × 5\n\n| term &lt;chr&gt; | estimate &lt;dbl&gt; | std.error &lt;dbl&gt; | statistic &lt;dbl&gt; | p.value &lt;dbl&gt; |\n|---|---|---|---|---|\n| (Intercept)   | 5.444102640 | 5.460082132 | 0.9970734 | 3.244389e-01 |\n| median_brutto | 0.009053752 | 0.001323456 | 6.8409903 | 2.454717e-08 |\n\n",
            "text/latex": "A tibble: 2 × 5\n\\begin{tabular}{lllll}\n term & estimate & std.error & statistic & p.value\\\\\n <chr> & <dbl> & <dbl> & <dbl> & <dbl>\\\\\n\\hline\n\t (Intercept)   & 5.444102640 & 5.460082132 & 0.9970734 & 3.244389e-01\\\\\n\t median\\_brutto & 0.009053752 & 0.001323456 & 6.8409903 & 2.454717e-08\\\\\n\\end{tabular}\n",
            "text/plain": [
              "  term          estimate    std.error   statistic p.value     \n",
              "1 (Intercept)   5.444102640 5.460082132 0.9970734 3.244389e-01\n",
              "2 median_brutto 0.009053752 0.001323456 6.8409903 2.454717e-08"
            ]
          },
          "metadata": {}
        }
      ]
    },
    {
      "cell_type": "code",
      "source": [
        "tidy(model1) %>%\n",
        "  filter(term != \"(Intercept)\") %>%\n",
        "  ggplot(aes(x = estimate, y = term)) +\n",
        "  geom_point()"
      ],
      "metadata": {
        "id": "SPg2HR9fMrsw"
      },
      "execution_count": null,
      "outputs": []
    }
  ]
}